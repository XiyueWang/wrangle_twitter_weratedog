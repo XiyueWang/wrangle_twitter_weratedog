{
 "cells": [
  {
   "cell_type": "markdown",
   "metadata": {},
   "source": [
    "##  Wrangling the tweet archive of WeRateDogs"
   ]
  },
  {
   "cell_type": "markdown",
   "metadata": {},
   "source": [
    "### Gathering"
   ]
  },
  {
   "cell_type": "code",
   "execution_count": 730,
   "metadata": {},
   "outputs": [],
   "source": [
    "# import necessary packages\n",
    "import pandas as pd\n",
    "import requests\n",
    "import os\n",
    "import tweepy\n",
    "import json\n",
    "import re\n",
    "import numpy as np"
   ]
  },
  {
   "cell_type": "code",
   "execution_count": 110,
   "metadata": {},
   "outputs": [],
   "source": [
    "# read tweeter archive file\n",
    "archive = pd.read_csv('twitter-archive-enhanced-2.csv')"
   ]
  },
  {
   "cell_type": "code",
   "execution_count": 68,
   "metadata": {},
   "outputs": [],
   "source": [
    "# request image prediction file\n",
    "url = 'https://d17h27t6h515a5.cloudfront.net/topher/2017/August/599fd2ad_image-predictions/image-predictions.tsv'\n",
    "response = requests.get(url)\n",
    "with open (os.path.join(os.getcwd(), url.split('/')[-1]), mode = 'wb') as file:\n",
    "    file.write(response.content)"
   ]
  },
  {
   "cell_type": "code",
   "execution_count": 111,
   "metadata": {},
   "outputs": [],
   "source": [
    "pred = pd.read_csv('image-predictions.tsv', sep='\\t')"
   ]
  },
  {
   "cell_type": "code",
   "execution_count": 57,
   "metadata": {
    "scrolled": true,
    "tags": [
     "hide_input"
    ]
   },
   "outputs": [],
   "source": [
    "consumer_key = 'Your Key'\n",
    "consumer_secret = 'Your Secret'\n",
    "access_token = 'Your Token'\n",
    "access_secret = 'Your Secret'\n",
    "\n",
    "auth = tweepy.OAuthHandler(consumer_key, consumer_secret)\n",
    "auth.set_access_token(access_token, access_secret)\n",
    "\n",
    "api = tweepy.API(auth, parser=tweepy.parsers.JSONParser(), wait_on_rate_limit=True, wait_on_rate_limit_notify=True)"
   ]
  },
  {
   "cell_type": "code",
   "execution_count": 65,
   "metadata": {},
   "outputs": [
    {
     "name": "stdout",
     "output_type": "stream",
     "text": [
      "Error: 888202515573088257\n",
      "Error: 873697596434513921\n",
      "Error: 872668790621863937\n",
      "Error: 872261713294495745\n",
      "Error: 869988702071779329\n",
      "Error: 866816280283807744\n",
      "Error: 861769973181624320\n",
      "Error: 856602993587888130\n",
      "Error: 851953902622658560\n",
      "Error: 845459076796616705\n",
      "Error: 844704788403113984\n",
      "Error: 842892208864923648\n",
      "Error: 837366284874571778\n",
      "Error: 837012587749474308\n"
     ]
    },
    {
     "name": "stderr",
     "output_type": "stream",
     "text": [
      "Rate limit reached. Sleeping for: 683\n"
     ]
    },
    {
     "name": "stdout",
     "output_type": "stream",
     "text": [
      "Error: 829374341691346946\n",
      "Error: 827228250799742977\n",
      "Error: 812747805718642688\n",
      "Error: 802247111496568832\n",
      "Error: 779123168116150273\n",
      "Error: 775096608509886464\n",
      "Error: 771004394259247104\n",
      "Error: 770743923962707968\n",
      "Error: 759566828574212096\n",
      "Error: 754011816964026368\n"
     ]
    },
    {
     "name": "stderr",
     "output_type": "stream",
     "text": [
      "Rate limit reached. Sleeping for: 598\n"
     ]
    },
    {
     "name": "stdout",
     "output_type": "stream",
     "text": [
      "Error: 680055455951884288\n"
     ]
    },
    {
     "name": "stderr",
     "output_type": "stream",
     "text": [
      "Rate limit reached. Sleeping for: 496\n"
     ]
    },
    {
     "name": "stdout",
     "output_type": "stream",
     "text": [
      "CPU times: user 50.1 s, sys: 3.13 s, total: 53.2 s\n",
      "Wall time: 44min 32s\n"
     ]
    }
   ],
   "source": [
    "%%time\n",
    "tweets = list(df_arch['tweet_id'])\n",
    "tweepy_errors = []\n",
    "for tw in tweets:\n",
    "    try:\n",
    "        tweet = api.get_status(tw, tweet_mode='extended')\n",
    "        with open(os.path.join(os.getcwd(), 'tweep_json.txt'), mode='a') as file:\n",
    "            json.dump(tweet, file)\n",
    "            file.write('\\n')\n",
    "    except tweepy.error.TweepError as e:\n",
    "        print('Error: {}'.format(tw))\n",
    "        tweepy_errors.append(tw)"
   ]
  },
  {
   "cell_type": "code",
   "execution_count": 89,
   "metadata": {},
   "outputs": [
    {
     "name": "stdout",
     "output_type": "stream",
     "text": [
      "[888202515573088257, 873697596434513921, 872668790621863937, 872261713294495745, 869988702071779329, 866816280283807744, 861769973181624320, 856602993587888130, 851953902622658560, 845459076796616705, 844704788403113984, 842892208864923648, 837366284874571778, 837012587749474308, 829374341691346946, 827228250799742977, 812747805718642688, 802247111496568832, 779123168116150273, 775096608509886464, 771004394259247104, 770743923962707968, 759566828574212096, 754011816964026368, 680055455951884288]\n"
     ]
    }
   ],
   "source": [
    "# list of deleted tweets\n",
    "print(tweepy_errors)"
   ]
  },
  {
   "cell_type": "code",
   "execution_count": 791,
   "metadata": {},
   "outputs": [],
   "source": [
    "# read retweets and 'like' counts to data frame\n",
    "df_status = []\n",
    "with open(os.path.join(os.getcwd(), 'tweep_json.txt'), mode = 'r') as file:\n",
    "    for line in file:\n",
    "        status = json.loads(line) \n",
    "        df_status.append({'id': status['id'],\n",
    "                         'time': status['created_at'],\n",
    "                         'retweeted': status['retweeted'],\n",
    "                         'retweets': status['retweet_count'],\n",
    "                         'likes': status['favorite_count']})"
   ]
  },
  {
   "cell_type": "code",
   "execution_count": 792,
   "metadata": {},
   "outputs": [],
   "source": [
    "status = pd.DataFrame(df_status, columns = ['id', 'time', 'retweeted', 'retweets', 'likes'])"
   ]
  },
  {
   "cell_type": "markdown",
   "metadata": {},
   "source": [
    "### Access"
   ]
  },
  {
   "cell_type": "code",
   "execution_count": 125,
   "metadata": {},
   "outputs": [
    {
     "data": {
      "text/html": [
       "<div>\n",
       "<style scoped>\n",
       "    .dataframe tbody tr th:only-of-type {\n",
       "        vertical-align: middle;\n",
       "    }\n",
       "\n",
       "    .dataframe tbody tr th {\n",
       "        vertical-align: top;\n",
       "    }\n",
       "\n",
       "    .dataframe thead th {\n",
       "        text-align: right;\n",
       "    }\n",
       "</style>\n",
       "<table border=\"1\" class=\"dataframe\">\n",
       "  <thead>\n",
       "    <tr style=\"text-align: right;\">\n",
       "      <th></th>\n",
       "      <th>tweet_id</th>\n",
       "      <th>in_reply_to_status_id</th>\n",
       "      <th>in_reply_to_user_id</th>\n",
       "      <th>timestamp</th>\n",
       "      <th>source</th>\n",
       "      <th>text</th>\n",
       "      <th>retweeted_status_id</th>\n",
       "      <th>retweeted_status_user_id</th>\n",
       "      <th>retweeted_status_timestamp</th>\n",
       "      <th>expanded_urls</th>\n",
       "      <th>rating_numerator</th>\n",
       "      <th>rating_denominator</th>\n",
       "      <th>name</th>\n",
       "      <th>doggo</th>\n",
       "      <th>floofer</th>\n",
       "      <th>pupper</th>\n",
       "      <th>puppo</th>\n",
       "    </tr>\n",
       "  </thead>\n",
       "  <tbody>\n",
       "    <tr>\n",
       "      <th>0</th>\n",
       "      <td>892420643555336193</td>\n",
       "      <td>NaN</td>\n",
       "      <td>NaN</td>\n",
       "      <td>2017-08-01 16:23:56 +0000</td>\n",
       "      <td>&lt;a href=\"http://twitter.com/download/iphone\" r...</td>\n",
       "      <td>This is Phineas. He's a mystical boy. Only eve...</td>\n",
       "      <td>NaN</td>\n",
       "      <td>NaN</td>\n",
       "      <td>NaN</td>\n",
       "      <td>https://twitter.com/dog_rates/status/892420643...</td>\n",
       "      <td>13</td>\n",
       "      <td>10</td>\n",
       "      <td>Phineas</td>\n",
       "      <td>None</td>\n",
       "      <td>None</td>\n",
       "      <td>None</td>\n",
       "      <td>None</td>\n",
       "    </tr>\n",
       "    <tr>\n",
       "      <th>1</th>\n",
       "      <td>892177421306343426</td>\n",
       "      <td>NaN</td>\n",
       "      <td>NaN</td>\n",
       "      <td>2017-08-01 00:17:27 +0000</td>\n",
       "      <td>&lt;a href=\"http://twitter.com/download/iphone\" r...</td>\n",
       "      <td>This is Tilly. She's just checking pup on you....</td>\n",
       "      <td>NaN</td>\n",
       "      <td>NaN</td>\n",
       "      <td>NaN</td>\n",
       "      <td>https://twitter.com/dog_rates/status/892177421...</td>\n",
       "      <td>13</td>\n",
       "      <td>10</td>\n",
       "      <td>Tilly</td>\n",
       "      <td>None</td>\n",
       "      <td>None</td>\n",
       "      <td>None</td>\n",
       "      <td>None</td>\n",
       "    </tr>\n",
       "    <tr>\n",
       "      <th>2</th>\n",
       "      <td>891815181378084864</td>\n",
       "      <td>NaN</td>\n",
       "      <td>NaN</td>\n",
       "      <td>2017-07-31 00:18:03 +0000</td>\n",
       "      <td>&lt;a href=\"http://twitter.com/download/iphone\" r...</td>\n",
       "      <td>This is Archie. He is a rare Norwegian Pouncin...</td>\n",
       "      <td>NaN</td>\n",
       "      <td>NaN</td>\n",
       "      <td>NaN</td>\n",
       "      <td>https://twitter.com/dog_rates/status/891815181...</td>\n",
       "      <td>12</td>\n",
       "      <td>10</td>\n",
       "      <td>Archie</td>\n",
       "      <td>None</td>\n",
       "      <td>None</td>\n",
       "      <td>None</td>\n",
       "      <td>None</td>\n",
       "    </tr>\n",
       "    <tr>\n",
       "      <th>3</th>\n",
       "      <td>891689557279858688</td>\n",
       "      <td>NaN</td>\n",
       "      <td>NaN</td>\n",
       "      <td>2017-07-30 15:58:51 +0000</td>\n",
       "      <td>&lt;a href=\"http://twitter.com/download/iphone\" r...</td>\n",
       "      <td>This is Darla. She commenced a snooze mid meal...</td>\n",
       "      <td>NaN</td>\n",
       "      <td>NaN</td>\n",
       "      <td>NaN</td>\n",
       "      <td>https://twitter.com/dog_rates/status/891689557...</td>\n",
       "      <td>13</td>\n",
       "      <td>10</td>\n",
       "      <td>Darla</td>\n",
       "      <td>None</td>\n",
       "      <td>None</td>\n",
       "      <td>None</td>\n",
       "      <td>None</td>\n",
       "    </tr>\n",
       "    <tr>\n",
       "      <th>4</th>\n",
       "      <td>891327558926688256</td>\n",
       "      <td>NaN</td>\n",
       "      <td>NaN</td>\n",
       "      <td>2017-07-29 16:00:24 +0000</td>\n",
       "      <td>&lt;a href=\"http://twitter.com/download/iphone\" r...</td>\n",
       "      <td>This is Franklin. He would like you to stop ca...</td>\n",
       "      <td>NaN</td>\n",
       "      <td>NaN</td>\n",
       "      <td>NaN</td>\n",
       "      <td>https://twitter.com/dog_rates/status/891327558...</td>\n",
       "      <td>12</td>\n",
       "      <td>10</td>\n",
       "      <td>Franklin</td>\n",
       "      <td>None</td>\n",
       "      <td>None</td>\n",
       "      <td>None</td>\n",
       "      <td>None</td>\n",
       "    </tr>\n",
       "  </tbody>\n",
       "</table>\n",
       "</div>"
      ],
      "text/plain": [
       "             tweet_id  in_reply_to_status_id  in_reply_to_user_id  \\\n",
       "0  892420643555336193                    NaN                  NaN   \n",
       "1  892177421306343426                    NaN                  NaN   \n",
       "2  891815181378084864                    NaN                  NaN   \n",
       "3  891689557279858688                    NaN                  NaN   \n",
       "4  891327558926688256                    NaN                  NaN   \n",
       "\n",
       "                   timestamp  \\\n",
       "0  2017-08-01 16:23:56 +0000   \n",
       "1  2017-08-01 00:17:27 +0000   \n",
       "2  2017-07-31 00:18:03 +0000   \n",
       "3  2017-07-30 15:58:51 +0000   \n",
       "4  2017-07-29 16:00:24 +0000   \n",
       "\n",
       "                                              source  \\\n",
       "0  <a href=\"http://twitter.com/download/iphone\" r...   \n",
       "1  <a href=\"http://twitter.com/download/iphone\" r...   \n",
       "2  <a href=\"http://twitter.com/download/iphone\" r...   \n",
       "3  <a href=\"http://twitter.com/download/iphone\" r...   \n",
       "4  <a href=\"http://twitter.com/download/iphone\" r...   \n",
       "\n",
       "                                                text  retweeted_status_id  \\\n",
       "0  This is Phineas. He's a mystical boy. Only eve...                  NaN   \n",
       "1  This is Tilly. She's just checking pup on you....                  NaN   \n",
       "2  This is Archie. He is a rare Norwegian Pouncin...                  NaN   \n",
       "3  This is Darla. She commenced a snooze mid meal...                  NaN   \n",
       "4  This is Franklin. He would like you to stop ca...                  NaN   \n",
       "\n",
       "   retweeted_status_user_id retweeted_status_timestamp  \\\n",
       "0                       NaN                        NaN   \n",
       "1                       NaN                        NaN   \n",
       "2                       NaN                        NaN   \n",
       "3                       NaN                        NaN   \n",
       "4                       NaN                        NaN   \n",
       "\n",
       "                                       expanded_urls  rating_numerator  \\\n",
       "0  https://twitter.com/dog_rates/status/892420643...                13   \n",
       "1  https://twitter.com/dog_rates/status/892177421...                13   \n",
       "2  https://twitter.com/dog_rates/status/891815181...                12   \n",
       "3  https://twitter.com/dog_rates/status/891689557...                13   \n",
       "4  https://twitter.com/dog_rates/status/891327558...                12   \n",
       "\n",
       "   rating_denominator      name doggo floofer pupper puppo  \n",
       "0                  10   Phineas  None    None   None  None  \n",
       "1                  10     Tilly  None    None   None  None  \n",
       "2                  10    Archie  None    None   None  None  \n",
       "3                  10     Darla  None    None   None  None  \n",
       "4                  10  Franklin  None    None   None  None  "
      ]
     },
     "execution_count": 125,
     "metadata": {},
     "output_type": "execute_result"
    }
   ],
   "source": [
    "# Check tweets archive \n",
    "archive.head()"
   ]
  },
  {
   "cell_type": "code",
   "execution_count": 126,
   "metadata": {},
   "outputs": [
    {
     "data": {
      "text/html": [
       "<div>\n",
       "<style scoped>\n",
       "    .dataframe tbody tr th:only-of-type {\n",
       "        vertical-align: middle;\n",
       "    }\n",
       "\n",
       "    .dataframe tbody tr th {\n",
       "        vertical-align: top;\n",
       "    }\n",
       "\n",
       "    .dataframe thead th {\n",
       "        text-align: right;\n",
       "    }\n",
       "</style>\n",
       "<table border=\"1\" class=\"dataframe\">\n",
       "  <thead>\n",
       "    <tr style=\"text-align: right;\">\n",
       "      <th></th>\n",
       "      <th>tweet_id</th>\n",
       "      <th>in_reply_to_status_id</th>\n",
       "      <th>in_reply_to_user_id</th>\n",
       "      <th>timestamp</th>\n",
       "      <th>source</th>\n",
       "      <th>text</th>\n",
       "      <th>retweeted_status_id</th>\n",
       "      <th>retweeted_status_user_id</th>\n",
       "      <th>retweeted_status_timestamp</th>\n",
       "      <th>expanded_urls</th>\n",
       "      <th>rating_numerator</th>\n",
       "      <th>rating_denominator</th>\n",
       "      <th>name</th>\n",
       "      <th>doggo</th>\n",
       "      <th>floofer</th>\n",
       "      <th>pupper</th>\n",
       "      <th>puppo</th>\n",
       "    </tr>\n",
       "  </thead>\n",
       "  <tbody>\n",
       "    <tr>\n",
       "      <th>1505</th>\n",
       "      <td>691793053716221953</td>\n",
       "      <td>NaN</td>\n",
       "      <td>NaN</td>\n",
       "      <td>2016-01-26 01:21:31 +0000</td>\n",
       "      <td>&lt;a href=\"http://vine.co\" rel=\"nofollow\"&gt;Vine -...</td>\n",
       "      <td>We usually don't rate penguins but this one is...</td>\n",
       "      <td>NaN</td>\n",
       "      <td>NaN</td>\n",
       "      <td>NaN</td>\n",
       "      <td>https://vine.co/v/OTTVAKw6YlW</td>\n",
       "      <td>10</td>\n",
       "      <td>10</td>\n",
       "      <td>None</td>\n",
       "      <td>None</td>\n",
       "      <td>None</td>\n",
       "      <td>None</td>\n",
       "      <td>None</td>\n",
       "    </tr>\n",
       "    <tr>\n",
       "      <th>1499</th>\n",
       "      <td>692187005137076224</td>\n",
       "      <td>NaN</td>\n",
       "      <td>NaN</td>\n",
       "      <td>2016-01-27 03:26:56 +0000</td>\n",
       "      <td>&lt;a href=\"http://twitter.com/download/iphone\" r...</td>\n",
       "      <td>This is a rare Arctic Wubberfloof. Unamused by...</td>\n",
       "      <td>NaN</td>\n",
       "      <td>NaN</td>\n",
       "      <td>NaN</td>\n",
       "      <td>https://twitter.com/dog_rates/status/692187005...</td>\n",
       "      <td>12</td>\n",
       "      <td>10</td>\n",
       "      <td>a</td>\n",
       "      <td>None</td>\n",
       "      <td>None</td>\n",
       "      <td>None</td>\n",
       "      <td>None</td>\n",
       "    </tr>\n",
       "    <tr>\n",
       "      <th>250</th>\n",
       "      <td>845098359547420673</td>\n",
       "      <td>NaN</td>\n",
       "      <td>NaN</td>\n",
       "      <td>2017-03-24 02:22:04 +0000</td>\n",
       "      <td>&lt;a href=\"http://twitter.com/download/iphone\" r...</td>\n",
       "      <td>RT @dog_rates: This is Bungalo. She uses that ...</td>\n",
       "      <td>7.733088e+17</td>\n",
       "      <td>4.196984e+09</td>\n",
       "      <td>2016-09-06 23:56:05 +0000</td>\n",
       "      <td>https://twitter.com/dog_rates/status/773308824...</td>\n",
       "      <td>12</td>\n",
       "      <td>10</td>\n",
       "      <td>Bungalo</td>\n",
       "      <td>None</td>\n",
       "      <td>None</td>\n",
       "      <td>None</td>\n",
       "      <td>None</td>\n",
       "    </tr>\n",
       "    <tr>\n",
       "      <th>1405</th>\n",
       "      <td>699323444782047232</td>\n",
       "      <td>NaN</td>\n",
       "      <td>NaN</td>\n",
       "      <td>2016-02-15 20:04:36 +0000</td>\n",
       "      <td>&lt;a href=\"http://twitter.com/download/iphone\" r...</td>\n",
       "      <td>\"I'm bathing the children what do you want?\"  ...</td>\n",
       "      <td>NaN</td>\n",
       "      <td>NaN</td>\n",
       "      <td>NaN</td>\n",
       "      <td>https://twitter.com/dog_rates/status/699323444...</td>\n",
       "      <td>10</td>\n",
       "      <td>10</td>\n",
       "      <td>None</td>\n",
       "      <td>None</td>\n",
       "      <td>None</td>\n",
       "      <td>None</td>\n",
       "      <td>None</td>\n",
       "    </tr>\n",
       "    <tr>\n",
       "      <th>1909</th>\n",
       "      <td>674422304705744896</td>\n",
       "      <td>NaN</td>\n",
       "      <td>NaN</td>\n",
       "      <td>2015-12-09 02:56:22 +0000</td>\n",
       "      <td>&lt;a href=\"http://twitter.com/download/iphone\" r...</td>\n",
       "      <td>This is Ava. She doesn't understand flowers. 1...</td>\n",
       "      <td>NaN</td>\n",
       "      <td>NaN</td>\n",
       "      <td>NaN</td>\n",
       "      <td>https://twitter.com/dog_rates/status/674422304...</td>\n",
       "      <td>12</td>\n",
       "      <td>10</td>\n",
       "      <td>Ava</td>\n",
       "      <td>None</td>\n",
       "      <td>None</td>\n",
       "      <td>None</td>\n",
       "      <td>None</td>\n",
       "    </tr>\n",
       "  </tbody>\n",
       "</table>\n",
       "</div>"
      ],
      "text/plain": [
       "                tweet_id  in_reply_to_status_id  in_reply_to_user_id  \\\n",
       "1505  691793053716221953                    NaN                  NaN   \n",
       "1499  692187005137076224                    NaN                  NaN   \n",
       "250   845098359547420673                    NaN                  NaN   \n",
       "1405  699323444782047232                    NaN                  NaN   \n",
       "1909  674422304705744896                    NaN                  NaN   \n",
       "\n",
       "                      timestamp  \\\n",
       "1505  2016-01-26 01:21:31 +0000   \n",
       "1499  2016-01-27 03:26:56 +0000   \n",
       "250   2017-03-24 02:22:04 +0000   \n",
       "1405  2016-02-15 20:04:36 +0000   \n",
       "1909  2015-12-09 02:56:22 +0000   \n",
       "\n",
       "                                                 source  \\\n",
       "1505  <a href=\"http://vine.co\" rel=\"nofollow\">Vine -...   \n",
       "1499  <a href=\"http://twitter.com/download/iphone\" r...   \n",
       "250   <a href=\"http://twitter.com/download/iphone\" r...   \n",
       "1405  <a href=\"http://twitter.com/download/iphone\" r...   \n",
       "1909  <a href=\"http://twitter.com/download/iphone\" r...   \n",
       "\n",
       "                                                   text  retweeted_status_id  \\\n",
       "1505  We usually don't rate penguins but this one is...                  NaN   \n",
       "1499  This is a rare Arctic Wubberfloof. Unamused by...                  NaN   \n",
       "250   RT @dog_rates: This is Bungalo. She uses that ...         7.733088e+17   \n",
       "1405  \"I'm bathing the children what do you want?\"  ...                  NaN   \n",
       "1909  This is Ava. She doesn't understand flowers. 1...                  NaN   \n",
       "\n",
       "      retweeted_status_user_id retweeted_status_timestamp  \\\n",
       "1505                       NaN                        NaN   \n",
       "1499                       NaN                        NaN   \n",
       "250               4.196984e+09  2016-09-06 23:56:05 +0000   \n",
       "1405                       NaN                        NaN   \n",
       "1909                       NaN                        NaN   \n",
       "\n",
       "                                          expanded_urls  rating_numerator  \\\n",
       "1505                      https://vine.co/v/OTTVAKw6YlW                10   \n",
       "1499  https://twitter.com/dog_rates/status/692187005...                12   \n",
       "250   https://twitter.com/dog_rates/status/773308824...                12   \n",
       "1405  https://twitter.com/dog_rates/status/699323444...                10   \n",
       "1909  https://twitter.com/dog_rates/status/674422304...                12   \n",
       "\n",
       "      rating_denominator     name doggo floofer pupper puppo  \n",
       "1505                  10     None  None    None   None  None  \n",
       "1499                  10        a  None    None   None  None  \n",
       "250                   10  Bungalo  None    None   None  None  \n",
       "1405                  10     None  None    None   None  None  \n",
       "1909                  10      Ava  None    None   None  None  "
      ]
     },
     "execution_count": 126,
     "metadata": {},
     "output_type": "execute_result"
    }
   ],
   "source": [
    "archive.sample(5)"
   ]
  },
  {
   "cell_type": "code",
   "execution_count": 122,
   "metadata": {},
   "outputs": [
    {
     "data": {
      "text/plain": [
       "(2356, 17)"
      ]
     },
     "execution_count": 122,
     "metadata": {},
     "output_type": "execute_result"
    }
   ],
   "source": [
    "archive.shape"
   ]
  },
  {
   "cell_type": "code",
   "execution_count": 138,
   "metadata": {},
   "outputs": [
    {
     "name": "stdout",
     "output_type": "stream",
     "text": [
      "<class 'pandas.core.frame.DataFrame'>\n",
      "RangeIndex: 2356 entries, 0 to 2355\n",
      "Data columns (total 17 columns):\n",
      " #   Column                      Non-Null Count  Dtype  \n",
      "---  ------                      --------------  -----  \n",
      " 0   tweet_id                    2356 non-null   int64  \n",
      " 1   in_reply_to_status_id       78 non-null     float64\n",
      " 2   in_reply_to_user_id         78 non-null     float64\n",
      " 3   timestamp                   2356 non-null   object \n",
      " 4   source                      2356 non-null   object \n",
      " 5   text                        2356 non-null   object \n",
      " 6   retweeted_status_id         181 non-null    float64\n",
      " 7   retweeted_status_user_id    181 non-null    float64\n",
      " 8   retweeted_status_timestamp  181 non-null    object \n",
      " 9   expanded_urls               2297 non-null   object \n",
      " 10  rating_numerator            2356 non-null   int64  \n",
      " 11  rating_denominator          2356 non-null   int64  \n",
      " 12  name                        2356 non-null   object \n",
      " 13  doggo                       2356 non-null   object \n",
      " 14  floofer                     2356 non-null   object \n",
      " 15  pupper                      2356 non-null   object \n",
      " 16  puppo                       2356 non-null   object \n",
      "dtypes: float64(4), int64(3), object(10)\n",
      "memory usage: 313.0+ KB\n"
     ]
    }
   ],
   "source": [
    "archive.info()"
   ]
  },
  {
   "cell_type": "code",
   "execution_count": 144,
   "metadata": {},
   "outputs": [
    {
     "data": {
      "text/plain": [
       "2175"
      ]
     },
     "execution_count": 144,
     "metadata": {},
     "output_type": "execute_result"
    }
   ],
   "source": [
    "# check how many tweets are original\n",
    "archive.shape[0] - 181"
   ]
  },
  {
   "cell_type": "code",
   "execution_count": 149,
   "metadata": {},
   "outputs": [
    {
     "data": {
      "text/plain": [
       "7.757333e+17    1\n",
       "7.507196e+17    1\n",
       "6.742918e+17    1\n",
       "6.833919e+17    1\n",
       "8.269587e+17    1\n",
       "               ..\n",
       "7.848260e+17    1\n",
       "7.806013e+17    1\n",
       "8.305833e+17    1\n",
       "7.047611e+17    1\n",
       "7.331095e+17    1\n",
       "Name: retweeted_status_id, Length: 181, dtype: int64"
      ]
     },
     "execution_count": 149,
     "metadata": {},
     "output_type": "execute_result"
    }
   ],
   "source": [
    "archive.retweeted_status_id.value_counts()"
   ]
  },
  {
   "cell_type": "code",
   "execution_count": 137,
   "metadata": {},
   "outputs": [
    {
     "data": {
      "text/plain": [
       "None       745\n",
       "a           55\n",
       "Charlie     12\n",
       "Lucy        11\n",
       "Oliver      11\n",
       "          ... \n",
       "Bobble       1\n",
       "Tayzie       1\n",
       "Leonard      1\n",
       "Ron          1\n",
       "Kendall      1\n",
       "Name: name, Length: 957, dtype: int64"
      ]
     },
     "execution_count": 137,
     "metadata": {},
     "output_type": "execute_result"
    }
   ],
   "source": [
    "archive.name.value_counts()"
   ]
  },
  {
   "cell_type": "code",
   "execution_count": 117,
   "metadata": {},
   "outputs": [
    {
     "data": {
      "text/plain": [
       "10     2333\n",
       "11        3\n",
       "50        3\n",
       "80        2\n",
       "20        2\n",
       "2         1\n",
       "16        1\n",
       "40        1\n",
       "70        1\n",
       "15        1\n",
       "90        1\n",
       "110       1\n",
       "120       1\n",
       "130       1\n",
       "150       1\n",
       "170       1\n",
       "7         1\n",
       "0         1\n",
       "Name: rating_denominator, dtype: int64"
      ]
     },
     "execution_count": 117,
     "metadata": {},
     "output_type": "execute_result"
    }
   ],
   "source": [
    "archive.rating_denominator.value_counts()"
   ]
  },
  {
   "cell_type": "code",
   "execution_count": 118,
   "metadata": {},
   "outputs": [
    {
     "data": {
      "text/plain": [
       "12      558\n",
       "11      464\n",
       "10      461\n",
       "13      351\n",
       "9       158\n",
       "8       102\n",
       "7        55\n",
       "14       54\n",
       "5        37\n",
       "6        32\n",
       "3        19\n",
       "4        17\n",
       "1         9\n",
       "2         9\n",
       "420       2\n",
       "0         2\n",
       "15        2\n",
       "75        2\n",
       "80        1\n",
       "20        1\n",
       "24        1\n",
       "26        1\n",
       "44        1\n",
       "50        1\n",
       "60        1\n",
       "165       1\n",
       "84        1\n",
       "88        1\n",
       "144       1\n",
       "182       1\n",
       "143       1\n",
       "666       1\n",
       "960       1\n",
       "1776      1\n",
       "17        1\n",
       "27        1\n",
       "45        1\n",
       "99        1\n",
       "121       1\n",
       "204       1\n",
       "Name: rating_numerator, dtype: int64"
      ]
     },
     "execution_count": 118,
     "metadata": {},
     "output_type": "execute_result"
    }
   ],
   "source": [
    "archive.rating_numerator.value_counts()"
   ]
  },
  {
   "cell_type": "code",
   "execution_count": 197,
   "metadata": {},
   "outputs": [
    {
     "data": {
      "text/html": [
       "<div>\n",
       "<style scoped>\n",
       "    .dataframe tbody tr th:only-of-type {\n",
       "        vertical-align: middle;\n",
       "    }\n",
       "\n",
       "    .dataframe tbody tr th {\n",
       "        vertical-align: top;\n",
       "    }\n",
       "\n",
       "    .dataframe thead th {\n",
       "        text-align: right;\n",
       "    }\n",
       "</style>\n",
       "<table border=\"1\" class=\"dataframe\">\n",
       "  <thead>\n",
       "    <tr style=\"text-align: right;\">\n",
       "      <th></th>\n",
       "      <th>rating_denominator</th>\n",
       "      <th>rating_numerator</th>\n",
       "    </tr>\n",
       "  </thead>\n",
       "  <tbody>\n",
       "    <tr>\n",
       "      <th>count</th>\n",
       "      <td>2356.000000</td>\n",
       "      <td>2356.000000</td>\n",
       "    </tr>\n",
       "    <tr>\n",
       "      <th>mean</th>\n",
       "      <td>10.455433</td>\n",
       "      <td>13.126486</td>\n",
       "    </tr>\n",
       "    <tr>\n",
       "      <th>std</th>\n",
       "      <td>6.745237</td>\n",
       "      <td>45.876648</td>\n",
       "    </tr>\n",
       "    <tr>\n",
       "      <th>min</th>\n",
       "      <td>0.000000</td>\n",
       "      <td>0.000000</td>\n",
       "    </tr>\n",
       "    <tr>\n",
       "      <th>25%</th>\n",
       "      <td>10.000000</td>\n",
       "      <td>10.000000</td>\n",
       "    </tr>\n",
       "    <tr>\n",
       "      <th>50%</th>\n",
       "      <td>10.000000</td>\n",
       "      <td>11.000000</td>\n",
       "    </tr>\n",
       "    <tr>\n",
       "      <th>75%</th>\n",
       "      <td>10.000000</td>\n",
       "      <td>12.000000</td>\n",
       "    </tr>\n",
       "    <tr>\n",
       "      <th>max</th>\n",
       "      <td>170.000000</td>\n",
       "      <td>1776.000000</td>\n",
       "    </tr>\n",
       "  </tbody>\n",
       "</table>\n",
       "</div>"
      ],
      "text/plain": [
       "       rating_denominator  rating_numerator\n",
       "count         2356.000000       2356.000000\n",
       "mean            10.455433         13.126486\n",
       "std              6.745237         45.876648\n",
       "min              0.000000          0.000000\n",
       "25%             10.000000         10.000000\n",
       "50%             10.000000         11.000000\n",
       "75%             10.000000         12.000000\n",
       "max            170.000000       1776.000000"
      ]
     },
     "execution_count": 197,
     "metadata": {},
     "output_type": "execute_result"
    }
   ],
   "source": [
    "archive_clean[['rating_denominator','rating_numerator']].describe()"
   ]
  },
  {
   "cell_type": "code",
   "execution_count": 145,
   "metadata": {},
   "outputs": [
    {
     "data": {
      "text/plain": [
       "None     2259\n",
       "doggo      97\n",
       "Name: doggo, dtype: int64"
      ]
     },
     "execution_count": 145,
     "metadata": {},
     "output_type": "execute_result"
    }
   ],
   "source": [
    "archive.doggo.value_counts()"
   ]
  },
  {
   "cell_type": "code",
   "execution_count": 146,
   "metadata": {},
   "outputs": [
    {
     "data": {
      "text/plain": [
       "None       2346\n",
       "floofer      10\n",
       "Name: floofer, dtype: int64"
      ]
     },
     "execution_count": 146,
     "metadata": {},
     "output_type": "execute_result"
    }
   ],
   "source": [
    "archive.floofer.value_counts()"
   ]
  },
  {
   "cell_type": "code",
   "execution_count": 147,
   "metadata": {},
   "outputs": [
    {
     "data": {
      "text/plain": [
       "None      2099\n",
       "pupper     257\n",
       "Name: pupper, dtype: int64"
      ]
     },
     "execution_count": 147,
     "metadata": {},
     "output_type": "execute_result"
    }
   ],
   "source": [
    "archive.pupper.value_counts()"
   ]
  },
  {
   "cell_type": "code",
   "execution_count": 148,
   "metadata": {},
   "outputs": [
    {
     "data": {
      "text/plain": [
       "None     2326\n",
       "puppo      30\n",
       "Name: puppo, dtype: int64"
      ]
     },
     "execution_count": 148,
     "metadata": {},
     "output_type": "execute_result"
    }
   ],
   "source": [
    "archive.puppo.value_counts()"
   ]
  },
  {
   "cell_type": "code",
   "execution_count": 123,
   "metadata": {},
   "outputs": [
    {
     "data": {
      "text/html": [
       "<div>\n",
       "<style scoped>\n",
       "    .dataframe tbody tr th:only-of-type {\n",
       "        vertical-align: middle;\n",
       "    }\n",
       "\n",
       "    .dataframe tbody tr th {\n",
       "        vertical-align: top;\n",
       "    }\n",
       "\n",
       "    .dataframe thead th {\n",
       "        text-align: right;\n",
       "    }\n",
       "</style>\n",
       "<table border=\"1\" class=\"dataframe\">\n",
       "  <thead>\n",
       "    <tr style=\"text-align: right;\">\n",
       "      <th></th>\n",
       "      <th>tweet_id</th>\n",
       "      <th>jpg_url</th>\n",
       "      <th>img_num</th>\n",
       "      <th>p1</th>\n",
       "      <th>p1_conf</th>\n",
       "      <th>p1_dog</th>\n",
       "      <th>p2</th>\n",
       "      <th>p2_conf</th>\n",
       "      <th>p2_dog</th>\n",
       "      <th>p3</th>\n",
       "      <th>p3_conf</th>\n",
       "      <th>p3_dog</th>\n",
       "    </tr>\n",
       "  </thead>\n",
       "  <tbody>\n",
       "    <tr>\n",
       "      <th>0</th>\n",
       "      <td>666020888022790149</td>\n",
       "      <td>https://pbs.twimg.com/media/CT4udn0WwAA0aMy.jpg</td>\n",
       "      <td>1</td>\n",
       "      <td>Welsh_springer_spaniel</td>\n",
       "      <td>0.465074</td>\n",
       "      <td>True</td>\n",
       "      <td>collie</td>\n",
       "      <td>0.156665</td>\n",
       "      <td>True</td>\n",
       "      <td>Shetland_sheepdog</td>\n",
       "      <td>0.061428</td>\n",
       "      <td>True</td>\n",
       "    </tr>\n",
       "    <tr>\n",
       "      <th>1</th>\n",
       "      <td>666029285002620928</td>\n",
       "      <td>https://pbs.twimg.com/media/CT42GRgUYAA5iDo.jpg</td>\n",
       "      <td>1</td>\n",
       "      <td>redbone</td>\n",
       "      <td>0.506826</td>\n",
       "      <td>True</td>\n",
       "      <td>miniature_pinscher</td>\n",
       "      <td>0.074192</td>\n",
       "      <td>True</td>\n",
       "      <td>Rhodesian_ridgeback</td>\n",
       "      <td>0.072010</td>\n",
       "      <td>True</td>\n",
       "    </tr>\n",
       "    <tr>\n",
       "      <th>2</th>\n",
       "      <td>666033412701032449</td>\n",
       "      <td>https://pbs.twimg.com/media/CT4521TWwAEvMyu.jpg</td>\n",
       "      <td>1</td>\n",
       "      <td>German_shepherd</td>\n",
       "      <td>0.596461</td>\n",
       "      <td>True</td>\n",
       "      <td>malinois</td>\n",
       "      <td>0.138584</td>\n",
       "      <td>True</td>\n",
       "      <td>bloodhound</td>\n",
       "      <td>0.116197</td>\n",
       "      <td>True</td>\n",
       "    </tr>\n",
       "    <tr>\n",
       "      <th>3</th>\n",
       "      <td>666044226329800704</td>\n",
       "      <td>https://pbs.twimg.com/media/CT5Dr8HUEAA-lEu.jpg</td>\n",
       "      <td>1</td>\n",
       "      <td>Rhodesian_ridgeback</td>\n",
       "      <td>0.408143</td>\n",
       "      <td>True</td>\n",
       "      <td>redbone</td>\n",
       "      <td>0.360687</td>\n",
       "      <td>True</td>\n",
       "      <td>miniature_pinscher</td>\n",
       "      <td>0.222752</td>\n",
       "      <td>True</td>\n",
       "    </tr>\n",
       "    <tr>\n",
       "      <th>4</th>\n",
       "      <td>666049248165822465</td>\n",
       "      <td>https://pbs.twimg.com/media/CT5IQmsXIAAKY4A.jpg</td>\n",
       "      <td>1</td>\n",
       "      <td>miniature_pinscher</td>\n",
       "      <td>0.560311</td>\n",
       "      <td>True</td>\n",
       "      <td>Rottweiler</td>\n",
       "      <td>0.243682</td>\n",
       "      <td>True</td>\n",
       "      <td>Doberman</td>\n",
       "      <td>0.154629</td>\n",
       "      <td>True</td>\n",
       "    </tr>\n",
       "  </tbody>\n",
       "</table>\n",
       "</div>"
      ],
      "text/plain": [
       "             tweet_id                                          jpg_url  \\\n",
       "0  666020888022790149  https://pbs.twimg.com/media/CT4udn0WwAA0aMy.jpg   \n",
       "1  666029285002620928  https://pbs.twimg.com/media/CT42GRgUYAA5iDo.jpg   \n",
       "2  666033412701032449  https://pbs.twimg.com/media/CT4521TWwAEvMyu.jpg   \n",
       "3  666044226329800704  https://pbs.twimg.com/media/CT5Dr8HUEAA-lEu.jpg   \n",
       "4  666049248165822465  https://pbs.twimg.com/media/CT5IQmsXIAAKY4A.jpg   \n",
       "\n",
       "   img_num                      p1   p1_conf  p1_dog                  p2  \\\n",
       "0        1  Welsh_springer_spaniel  0.465074    True              collie   \n",
       "1        1                 redbone  0.506826    True  miniature_pinscher   \n",
       "2        1         German_shepherd  0.596461    True            malinois   \n",
       "3        1     Rhodesian_ridgeback  0.408143    True             redbone   \n",
       "4        1      miniature_pinscher  0.560311    True          Rottweiler   \n",
       "\n",
       "    p2_conf  p2_dog                   p3   p3_conf  p3_dog  \n",
       "0  0.156665    True    Shetland_sheepdog  0.061428    True  \n",
       "1  0.074192    True  Rhodesian_ridgeback  0.072010    True  \n",
       "2  0.138584    True           bloodhound  0.116197    True  \n",
       "3  0.360687    True   miniature_pinscher  0.222752    True  \n",
       "4  0.243682    True             Doberman  0.154629    True  "
      ]
     },
     "execution_count": 123,
     "metadata": {},
     "output_type": "execute_result"
    }
   ],
   "source": [
    "# Access image prediction table\n",
    "pred.head()"
   ]
  },
  {
   "cell_type": "code",
   "execution_count": 124,
   "metadata": {},
   "outputs": [
    {
     "data": {
      "text/html": [
       "<div>\n",
       "<style scoped>\n",
       "    .dataframe tbody tr th:only-of-type {\n",
       "        vertical-align: middle;\n",
       "    }\n",
       "\n",
       "    .dataframe tbody tr th {\n",
       "        vertical-align: top;\n",
       "    }\n",
       "\n",
       "    .dataframe thead th {\n",
       "        text-align: right;\n",
       "    }\n",
       "</style>\n",
       "<table border=\"1\" class=\"dataframe\">\n",
       "  <thead>\n",
       "    <tr style=\"text-align: right;\">\n",
       "      <th></th>\n",
       "      <th>tweet_id</th>\n",
       "      <th>jpg_url</th>\n",
       "      <th>img_num</th>\n",
       "      <th>p1</th>\n",
       "      <th>p1_conf</th>\n",
       "      <th>p1_dog</th>\n",
       "      <th>p2</th>\n",
       "      <th>p2_conf</th>\n",
       "      <th>p2_dog</th>\n",
       "      <th>p3</th>\n",
       "      <th>p3_conf</th>\n",
       "      <th>p3_dog</th>\n",
       "    </tr>\n",
       "  </thead>\n",
       "  <tbody>\n",
       "    <tr>\n",
       "      <th>1854</th>\n",
       "      <td>841077006473256960</td>\n",
       "      <td>https://pbs.twimg.com/media/C6wbE5bXUAAh1Hv.jpg</td>\n",
       "      <td>1</td>\n",
       "      <td>Brittany_spaniel</td>\n",
       "      <td>0.962985</td>\n",
       "      <td>True</td>\n",
       "      <td>Blenheim_spaniel</td>\n",
       "      <td>0.014820</td>\n",
       "      <td>True</td>\n",
       "      <td>clumber</td>\n",
       "      <td>0.009557</td>\n",
       "      <td>True</td>\n",
       "    </tr>\n",
       "    <tr>\n",
       "      <th>1750</th>\n",
       "      <td>823939628516474880</td>\n",
       "      <td>https://pbs.twimg.com/media/C284uD8WgAEmMVn.jpg</td>\n",
       "      <td>1</td>\n",
       "      <td>schipperke</td>\n",
       "      <td>0.234076</td>\n",
       "      <td>True</td>\n",
       "      <td>curly-coated_retriever</td>\n",
       "      <td>0.193093</td>\n",
       "      <td>True</td>\n",
       "      <td>Labrador_retriever</td>\n",
       "      <td>0.095197</td>\n",
       "      <td>True</td>\n",
       "    </tr>\n",
       "    <tr>\n",
       "      <th>664</th>\n",
       "      <td>682697186228989953</td>\n",
       "      <td>https://pbs.twimg.com/media/CXltdtaWYAIuX_V.jpg</td>\n",
       "      <td>1</td>\n",
       "      <td>bald_eagle</td>\n",
       "      <td>0.097232</td>\n",
       "      <td>False</td>\n",
       "      <td>torch</td>\n",
       "      <td>0.096621</td>\n",
       "      <td>False</td>\n",
       "      <td>cliff</td>\n",
       "      <td>0.090385</td>\n",
       "      <td>False</td>\n",
       "    </tr>\n",
       "    <tr>\n",
       "      <th>1393</th>\n",
       "      <td>767191397493538821</td>\n",
       "      <td>https://pbs.twimg.com/media/CqWcgcqWcAI43jm.jpg</td>\n",
       "      <td>1</td>\n",
       "      <td>patio</td>\n",
       "      <td>0.708665</td>\n",
       "      <td>False</td>\n",
       "      <td>boathouse</td>\n",
       "      <td>0.110056</td>\n",
       "      <td>False</td>\n",
       "      <td>pier</td>\n",
       "      <td>0.039532</td>\n",
       "      <td>False</td>\n",
       "    </tr>\n",
       "    <tr>\n",
       "      <th>329</th>\n",
       "      <td>672082170312290304</td>\n",
       "      <td>https://pbs.twimg.com/media/CVO3KodXAAAj1de.jpg</td>\n",
       "      <td>1</td>\n",
       "      <td>hamster</td>\n",
       "      <td>0.132440</td>\n",
       "      <td>False</td>\n",
       "      <td>toy_poodle</td>\n",
       "      <td>0.123962</td>\n",
       "      <td>True</td>\n",
       "      <td>bubble</td>\n",
       "      <td>0.056212</td>\n",
       "      <td>False</td>\n",
       "    </tr>\n",
       "  </tbody>\n",
       "</table>\n",
       "</div>"
      ],
      "text/plain": [
       "                tweet_id                                          jpg_url  \\\n",
       "1854  841077006473256960  https://pbs.twimg.com/media/C6wbE5bXUAAh1Hv.jpg   \n",
       "1750  823939628516474880  https://pbs.twimg.com/media/C284uD8WgAEmMVn.jpg   \n",
       "664   682697186228989953  https://pbs.twimg.com/media/CXltdtaWYAIuX_V.jpg   \n",
       "1393  767191397493538821  https://pbs.twimg.com/media/CqWcgcqWcAI43jm.jpg   \n",
       "329   672082170312290304  https://pbs.twimg.com/media/CVO3KodXAAAj1de.jpg   \n",
       "\n",
       "      img_num                p1   p1_conf  p1_dog                      p2  \\\n",
       "1854        1  Brittany_spaniel  0.962985    True        Blenheim_spaniel   \n",
       "1750        1        schipperke  0.234076    True  curly-coated_retriever   \n",
       "664         1        bald_eagle  0.097232   False                   torch   \n",
       "1393        1             patio  0.708665   False               boathouse   \n",
       "329         1           hamster  0.132440   False              toy_poodle   \n",
       "\n",
       "       p2_conf  p2_dog                  p3   p3_conf  p3_dog  \n",
       "1854  0.014820    True             clumber  0.009557    True  \n",
       "1750  0.193093    True  Labrador_retriever  0.095197    True  \n",
       "664   0.096621   False               cliff  0.090385   False  \n",
       "1393  0.110056   False                pier  0.039532   False  \n",
       "329   0.123962    True              bubble  0.056212   False  "
      ]
     },
     "execution_count": 124,
     "metadata": {},
     "output_type": "execute_result"
    }
   ],
   "source": [
    "pred.sample(5)"
   ]
  },
  {
   "cell_type": "code",
   "execution_count": 127,
   "metadata": {},
   "outputs": [
    {
     "data": {
      "text/plain": [
       "(2075, 12)"
      ]
     },
     "execution_count": 127,
     "metadata": {},
     "output_type": "execute_result"
    }
   ],
   "source": [
    "pred.shape"
   ]
  },
  {
   "cell_type": "code",
   "execution_count": 121,
   "metadata": {},
   "outputs": [
    {
     "data": {
      "text/html": [
       "<div>\n",
       "<style scoped>\n",
       "    .dataframe tbody tr th:only-of-type {\n",
       "        vertical-align: middle;\n",
       "    }\n",
       "\n",
       "    .dataframe tbody tr th {\n",
       "        vertical-align: top;\n",
       "    }\n",
       "\n",
       "    .dataframe thead th {\n",
       "        text-align: right;\n",
       "    }\n",
       "</style>\n",
       "<table border=\"1\" class=\"dataframe\">\n",
       "  <thead>\n",
       "    <tr style=\"text-align: right;\">\n",
       "      <th></th>\n",
       "      <th>tweet_id</th>\n",
       "      <th>img_num</th>\n",
       "      <th>p1_conf</th>\n",
       "      <th>p2_conf</th>\n",
       "      <th>p3_conf</th>\n",
       "    </tr>\n",
       "  </thead>\n",
       "  <tbody>\n",
       "    <tr>\n",
       "      <th>count</th>\n",
       "      <td>2.075000e+03</td>\n",
       "      <td>2075.000000</td>\n",
       "      <td>2075.000000</td>\n",
       "      <td>2.075000e+03</td>\n",
       "      <td>2.075000e+03</td>\n",
       "    </tr>\n",
       "    <tr>\n",
       "      <th>mean</th>\n",
       "      <td>7.384514e+17</td>\n",
       "      <td>1.203855</td>\n",
       "      <td>0.594548</td>\n",
       "      <td>1.345886e-01</td>\n",
       "      <td>6.032417e-02</td>\n",
       "    </tr>\n",
       "    <tr>\n",
       "      <th>std</th>\n",
       "      <td>6.785203e+16</td>\n",
       "      <td>0.561875</td>\n",
       "      <td>0.271174</td>\n",
       "      <td>1.006657e-01</td>\n",
       "      <td>5.090593e-02</td>\n",
       "    </tr>\n",
       "    <tr>\n",
       "      <th>min</th>\n",
       "      <td>6.660209e+17</td>\n",
       "      <td>1.000000</td>\n",
       "      <td>0.044333</td>\n",
       "      <td>1.011300e-08</td>\n",
       "      <td>1.740170e-10</td>\n",
       "    </tr>\n",
       "    <tr>\n",
       "      <th>25%</th>\n",
       "      <td>6.764835e+17</td>\n",
       "      <td>1.000000</td>\n",
       "      <td>0.364412</td>\n",
       "      <td>5.388625e-02</td>\n",
       "      <td>1.622240e-02</td>\n",
       "    </tr>\n",
       "    <tr>\n",
       "      <th>50%</th>\n",
       "      <td>7.119988e+17</td>\n",
       "      <td>1.000000</td>\n",
       "      <td>0.588230</td>\n",
       "      <td>1.181810e-01</td>\n",
       "      <td>4.944380e-02</td>\n",
       "    </tr>\n",
       "    <tr>\n",
       "      <th>75%</th>\n",
       "      <td>7.932034e+17</td>\n",
       "      <td>1.000000</td>\n",
       "      <td>0.843855</td>\n",
       "      <td>1.955655e-01</td>\n",
       "      <td>9.180755e-02</td>\n",
       "    </tr>\n",
       "    <tr>\n",
       "      <th>max</th>\n",
       "      <td>8.924206e+17</td>\n",
       "      <td>4.000000</td>\n",
       "      <td>1.000000</td>\n",
       "      <td>4.880140e-01</td>\n",
       "      <td>2.734190e-01</td>\n",
       "    </tr>\n",
       "  </tbody>\n",
       "</table>\n",
       "</div>"
      ],
      "text/plain": [
       "           tweet_id      img_num      p1_conf       p2_conf       p3_conf\n",
       "count  2.075000e+03  2075.000000  2075.000000  2.075000e+03  2.075000e+03\n",
       "mean   7.384514e+17     1.203855     0.594548  1.345886e-01  6.032417e-02\n",
       "std    6.785203e+16     0.561875     0.271174  1.006657e-01  5.090593e-02\n",
       "min    6.660209e+17     1.000000     0.044333  1.011300e-08  1.740170e-10\n",
       "25%    6.764835e+17     1.000000     0.364412  5.388625e-02  1.622240e-02\n",
       "50%    7.119988e+17     1.000000     0.588230  1.181810e-01  4.944380e-02\n",
       "75%    7.932034e+17     1.000000     0.843855  1.955655e-01  9.180755e-02\n",
       "max    8.924206e+17     4.000000     1.000000  4.880140e-01  2.734190e-01"
      ]
     },
     "execution_count": 121,
     "metadata": {},
     "output_type": "execute_result"
    }
   ],
   "source": [
    "pred.describe()"
   ]
  },
  {
   "cell_type": "code",
   "execution_count": 151,
   "metadata": {},
   "outputs": [
    {
     "data": {
      "text/plain": [
       "0"
      ]
     },
     "execution_count": 151,
     "metadata": {},
     "output_type": "execute_result"
    }
   ],
   "source": [
    "sum(pred.duplicated())"
   ]
  },
  {
   "cell_type": "code",
   "execution_count": 128,
   "metadata": {},
   "outputs": [
    {
     "data": {
      "text/plain": [
       "golden_retriever      150\n",
       "Labrador_retriever    100\n",
       "Pembroke               89\n",
       "Chihuahua              83\n",
       "pug                    57\n",
       "                     ... \n",
       "Japanese_spaniel        1\n",
       "sandbar                 1\n",
       "EntleBucher             1\n",
       "microwave               1\n",
       "earthstar               1\n",
       "Name: p1, Length: 378, dtype: int64"
      ]
     },
     "execution_count": 128,
     "metadata": {},
     "output_type": "execute_result"
    }
   ],
   "source": [
    "pred.p1.value_counts()"
   ]
  },
  {
   "cell_type": "code",
   "execution_count": 129,
   "metadata": {},
   "outputs": [
    {
     "data": {
      "text/plain": [
       "Labrador_retriever    104\n",
       "golden_retriever       92\n",
       "Cardigan               73\n",
       "Chihuahua              44\n",
       "Pomeranian             42\n",
       "                     ... \n",
       "lampshade               1\n",
       "umbrella                1\n",
       "spotted_salamander      1\n",
       "otter                   1\n",
       "bannister               1\n",
       "Name: p2, Length: 405, dtype: int64"
      ]
     },
     "execution_count": 129,
     "metadata": {},
     "output_type": "execute_result"
    }
   ],
   "source": [
    "pred.p2.value_counts()"
   ]
  },
  {
   "cell_type": "code",
   "execution_count": 163,
   "metadata": {},
   "outputs": [
    {
     "data": {
      "text/html": [
       "<div>\n",
       "<style scoped>\n",
       "    .dataframe tbody tr th:only-of-type {\n",
       "        vertical-align: middle;\n",
       "    }\n",
       "\n",
       "    .dataframe tbody tr th {\n",
       "        vertical-align: top;\n",
       "    }\n",
       "\n",
       "    .dataframe thead th {\n",
       "        text-align: right;\n",
       "    }\n",
       "</style>\n",
       "<table border=\"1\" class=\"dataframe\">\n",
       "  <thead>\n",
       "    <tr style=\"text-align: right;\">\n",
       "      <th></th>\n",
       "      <th>id</th>\n",
       "      <th>time</th>\n",
       "      <th>retweeted</th>\n",
       "      <th>retweets</th>\n",
       "      <th>likes</th>\n",
       "    </tr>\n",
       "  </thead>\n",
       "  <tbody>\n",
       "    <tr>\n",
       "      <th>0</th>\n",
       "      <td>892420643555336193</td>\n",
       "      <td>Tue Aug 01 16:23:56 +0000 2017</td>\n",
       "      <td>False</td>\n",
       "      <td>7745</td>\n",
       "      <td>36427</td>\n",
       "    </tr>\n",
       "    <tr>\n",
       "      <th>1</th>\n",
       "      <td>892177421306343426</td>\n",
       "      <td>Tue Aug 01 00:17:27 +0000 2017</td>\n",
       "      <td>False</td>\n",
       "      <td>5737</td>\n",
       "      <td>31368</td>\n",
       "    </tr>\n",
       "    <tr>\n",
       "      <th>2</th>\n",
       "      <td>891815181378084864</td>\n",
       "      <td>Mon Jul 31 00:18:03 +0000 2017</td>\n",
       "      <td>False</td>\n",
       "      <td>3798</td>\n",
       "      <td>23640</td>\n",
       "    </tr>\n",
       "    <tr>\n",
       "      <th>3</th>\n",
       "      <td>891689557279858688</td>\n",
       "      <td>Sun Jul 30 15:58:51 +0000 2017</td>\n",
       "      <td>False</td>\n",
       "      <td>7902</td>\n",
       "      <td>39740</td>\n",
       "    </tr>\n",
       "    <tr>\n",
       "      <th>4</th>\n",
       "      <td>891327558926688256</td>\n",
       "      <td>Sat Jul 29 16:00:24 +0000 2017</td>\n",
       "      <td>False</td>\n",
       "      <td>8539</td>\n",
       "      <td>37932</td>\n",
       "    </tr>\n",
       "  </tbody>\n",
       "</table>\n",
       "</div>"
      ],
      "text/plain": [
       "                   id                            time  retweeted  retweets  \\\n",
       "0  892420643555336193  Tue Aug 01 16:23:56 +0000 2017      False      7745   \n",
       "1  892177421306343426  Tue Aug 01 00:17:27 +0000 2017      False      5737   \n",
       "2  891815181378084864  Mon Jul 31 00:18:03 +0000 2017      False      3798   \n",
       "3  891689557279858688  Sun Jul 30 15:58:51 +0000 2017      False      7902   \n",
       "4  891327558926688256  Sat Jul 29 16:00:24 +0000 2017      False      8539   \n",
       "\n",
       "   likes  \n",
       "0  36427  \n",
       "1  31368  \n",
       "2  23640  \n",
       "3  39740  \n",
       "4  37932  "
      ]
     },
     "execution_count": 163,
     "metadata": {},
     "output_type": "execute_result"
    }
   ],
   "source": [
    "# Acess retweet status table\n",
    "status.head()"
   ]
  },
  {
   "cell_type": "code",
   "execution_count": 164,
   "metadata": {},
   "outputs": [
    {
     "data": {
      "text/html": [
       "<div>\n",
       "<style scoped>\n",
       "    .dataframe tbody tr th:only-of-type {\n",
       "        vertical-align: middle;\n",
       "    }\n",
       "\n",
       "    .dataframe tbody tr th {\n",
       "        vertical-align: top;\n",
       "    }\n",
       "\n",
       "    .dataframe thead th {\n",
       "        text-align: right;\n",
       "    }\n",
       "</style>\n",
       "<table border=\"1\" class=\"dataframe\">\n",
       "  <thead>\n",
       "    <tr style=\"text-align: right;\">\n",
       "      <th></th>\n",
       "      <th>id</th>\n",
       "      <th>time</th>\n",
       "      <th>retweeted</th>\n",
       "      <th>retweets</th>\n",
       "      <th>likes</th>\n",
       "    </tr>\n",
       "  </thead>\n",
       "  <tbody>\n",
       "    <tr>\n",
       "      <th>3008</th>\n",
       "      <td>786709082849828864</td>\n",
       "      <td>Thu Oct 13 23:23:56 +0000 2016</td>\n",
       "      <td>False</td>\n",
       "      <td>6269</td>\n",
       "      <td>18708</td>\n",
       "    </tr>\n",
       "    <tr>\n",
       "      <th>306</th>\n",
       "      <td>834458053273591808</td>\n",
       "      <td>Wed Feb 22 17:41:18 +0000 2017</td>\n",
       "      <td>False</td>\n",
       "      <td>1699</td>\n",
       "      <td>9707</td>\n",
       "    </tr>\n",
       "    <tr>\n",
       "      <th>1347</th>\n",
       "      <td>702276748847800320</td>\n",
       "      <td>Tue Feb 23 23:39:59 +0000 2016</td>\n",
       "      <td>False</td>\n",
       "      <td>766</td>\n",
       "      <td>2471</td>\n",
       "    </tr>\n",
       "    <tr>\n",
       "      <th>4043</th>\n",
       "      <td>679530280114372609</td>\n",
       "      <td>Wed Dec 23 05:13:38 +0000 2015</td>\n",
       "      <td>False</td>\n",
       "      <td>2075</td>\n",
       "      <td>4800</td>\n",
       "    </tr>\n",
       "    <tr>\n",
       "      <th>2178</th>\n",
       "      <td>668641109086707712</td>\n",
       "      <td>Mon Nov 23 04:03:57 +0000 2015</td>\n",
       "      <td>False</td>\n",
       "      <td>524</td>\n",
       "      <td>1038</td>\n",
       "    </tr>\n",
       "  </tbody>\n",
       "</table>\n",
       "</div>"
      ],
      "text/plain": [
       "                      id                            time  retweeted  retweets  \\\n",
       "3008  786709082849828864  Thu Oct 13 23:23:56 +0000 2016      False      6269   \n",
       "306   834458053273591808  Wed Feb 22 17:41:18 +0000 2017      False      1699   \n",
       "1347  702276748847800320  Tue Feb 23 23:39:59 +0000 2016      False       766   \n",
       "4043  679530280114372609  Wed Dec 23 05:13:38 +0000 2015      False      2075   \n",
       "2178  668641109086707712  Mon Nov 23 04:03:57 +0000 2015      False       524   \n",
       "\n",
       "      likes  \n",
       "3008  18708  \n",
       "306    9707  \n",
       "1347   2471  \n",
       "4043   4800  \n",
       "2178   1038  "
      ]
     },
     "execution_count": 164,
     "metadata": {},
     "output_type": "execute_result"
    }
   ],
   "source": [
    "status.sample(5)"
   ]
  },
  {
   "cell_type": "code",
   "execution_count": 165,
   "metadata": {},
   "outputs": [
    {
     "data": {
      "text/plain": [
       "(4662, 5)"
      ]
     },
     "execution_count": 165,
     "metadata": {},
     "output_type": "execute_result"
    }
   ],
   "source": [
    "status.shape"
   ]
  },
  {
   "cell_type": "code",
   "execution_count": 166,
   "metadata": {},
   "outputs": [
    {
     "data": {
      "text/plain": [
       "1761"
      ]
     },
     "execution_count": 166,
     "metadata": {},
     "output_type": "execute_result"
    }
   ],
   "source": [
    "sum(status.duplicated())"
   ]
  },
  {
   "cell_type": "code",
   "execution_count": 167,
   "metadata": {},
   "outputs": [
    {
     "name": "stdout",
     "output_type": "stream",
     "text": [
      "<class 'pandas.core.frame.DataFrame'>\n",
      "RangeIndex: 4662 entries, 0 to 4661\n",
      "Data columns (total 5 columns):\n",
      " #   Column     Non-Null Count  Dtype \n",
      "---  ------     --------------  ----- \n",
      " 0   id         4662 non-null   int64 \n",
      " 1   time       4662 non-null   object\n",
      " 2   retweeted  4662 non-null   bool  \n",
      " 3   retweets   4662 non-null   int64 \n",
      " 4   likes      4662 non-null   int64 \n",
      "dtypes: bool(1), int64(3), object(1)\n",
      "memory usage: 150.4+ KB\n"
     ]
    }
   ],
   "source": [
    "status.info()"
   ]
  },
  {
   "cell_type": "code",
   "execution_count": 168,
   "metadata": {},
   "outputs": [
    {
     "data": {
      "text/html": [
       "<div>\n",
       "<style scoped>\n",
       "    .dataframe tbody tr th:only-of-type {\n",
       "        vertical-align: middle;\n",
       "    }\n",
       "\n",
       "    .dataframe tbody tr th {\n",
       "        vertical-align: top;\n",
       "    }\n",
       "\n",
       "    .dataframe thead th {\n",
       "        text-align: right;\n",
       "    }\n",
       "</style>\n",
       "<table border=\"1\" class=\"dataframe\">\n",
       "  <thead>\n",
       "    <tr style=\"text-align: right;\">\n",
       "      <th></th>\n",
       "      <th>id</th>\n",
       "      <th>retweets</th>\n",
       "      <th>likes</th>\n",
       "    </tr>\n",
       "  </thead>\n",
       "  <tbody>\n",
       "    <tr>\n",
       "      <th>count</th>\n",
       "      <td>4.662000e+03</td>\n",
       "      <td>4662.000000</td>\n",
       "      <td>4662.000000</td>\n",
       "    </tr>\n",
       "    <tr>\n",
       "      <th>mean</th>\n",
       "      <td>7.419079e+17</td>\n",
       "      <td>2720.601673</td>\n",
       "      <td>7608.676105</td>\n",
       "    </tr>\n",
       "    <tr>\n",
       "      <th>std</th>\n",
       "      <td>6.822438e+16</td>\n",
       "      <td>4601.338496</td>\n",
       "      <td>11803.806877</td>\n",
       "    </tr>\n",
       "    <tr>\n",
       "      <th>min</th>\n",
       "      <td>6.660209e+17</td>\n",
       "      <td>1.000000</td>\n",
       "      <td>0.000000</td>\n",
       "    </tr>\n",
       "    <tr>\n",
       "      <th>25%</th>\n",
       "      <td>6.782612e+17</td>\n",
       "      <td>548.750000</td>\n",
       "      <td>1328.000000</td>\n",
       "    </tr>\n",
       "    <tr>\n",
       "      <th>50%</th>\n",
       "      <td>7.182469e+17</td>\n",
       "      <td>1277.000000</td>\n",
       "      <td>3312.000000</td>\n",
       "    </tr>\n",
       "    <tr>\n",
       "      <th>75%</th>\n",
       "      <td>7.986712e+17</td>\n",
       "      <td>3159.250000</td>\n",
       "      <td>9329.000000</td>\n",
       "    </tr>\n",
       "    <tr>\n",
       "      <th>max</th>\n",
       "      <td>8.924206e+17</td>\n",
       "      <td>78330.000000</td>\n",
       "      <td>157338.000000</td>\n",
       "    </tr>\n",
       "  </tbody>\n",
       "</table>\n",
       "</div>"
      ],
      "text/plain": [
       "                 id      retweets          likes\n",
       "count  4.662000e+03   4662.000000    4662.000000\n",
       "mean   7.419079e+17   2720.601673    7608.676105\n",
       "std    6.822438e+16   4601.338496   11803.806877\n",
       "min    6.660209e+17      1.000000       0.000000\n",
       "25%    6.782612e+17    548.750000    1328.000000\n",
       "50%    7.182469e+17   1277.000000    3312.000000\n",
       "75%    7.986712e+17   3159.250000    9329.000000\n",
       "max    8.924206e+17  78330.000000  157338.000000"
      ]
     },
     "execution_count": 168,
     "metadata": {},
     "output_type": "execute_result"
    }
   ],
   "source": [
    "status.describe()"
   ]
  },
  {
   "cell_type": "code",
   "execution_count": 169,
   "metadata": {},
   "outputs": [
    {
     "data": {
      "text/plain": [
       "False    4662\n",
       "Name: retweeted, dtype: int64"
      ]
     },
     "execution_count": 169,
     "metadata": {},
     "output_type": "execute_result"
    }
   ],
   "source": [
    "status.retweeted.value_counts()"
   ]
  },
  {
   "cell_type": "markdown",
   "metadata": {},
   "source": [
    "#### Quality"
   ]
  },
  {
   "cell_type": "markdown",
   "metadata": {},
   "source": [
    "`archive` table:\n",
    "- Missing information(name for dogs, retweeted infomation etc.)\n",
    "- Errorness datatype(timestamp datatype is object, retweet_id datatype is float)\n",
    "- Unsual values for rating numerators and denominators\n",
    "- Wierd name for some dog names('a' appears 55 times)\n",
    "- Lowercase for some dog names and uppercase for others\n",
    "\n",
    "`prediction` table:\n",
    "- Missing information(2175 original tweets in the archive table but only 2075 in prediction table)\n",
    "- Lowercase for some dog breed and uppercase for others(Labrador_retriever, golden_retriever etc.)\n",
    "\n",
    "`status` table:\n",
    "- Duplicated entries(1761)\n",
    "- Missing values(occured during aquiring, some tweets are deleted)\n",
    "- Errorness datatype(object for time instead of datetime)"
   ]
  },
  {
   "cell_type": "markdown",
   "metadata": {},
   "source": [
    "#### Tidiness"
   ]
  },
  {
   "cell_type": "markdown",
   "metadata": {},
   "source": [
    "- Tables have duplicated columns(id)\n",
    "- `prediction` table can be condensed for evaluation\n",
    "- `archive` table dog stages should be combined in one column "
   ]
  },
  {
   "cell_type": "markdown",
   "metadata": {},
   "source": [
    "### Cleaning"
   ]
  },
  {
   "cell_type": "code",
   "execution_count": 793,
   "metadata": {},
   "outputs": [],
   "source": [
    "# Copy dataframe\n",
    "archive_clean = archive.copy()\n",
    "pred_clean = pred.copy()\n",
    "status_clean = status.copy()"
   ]
  },
  {
   "cell_type": "markdown",
   "metadata": {},
   "source": [
    "**Clean unnecessary data for `archive` table**"
   ]
  },
  {
   "cell_type": "code",
   "execution_count": 794,
   "metadata": {},
   "outputs": [],
   "source": [
    "col = ['in_reply_to_status_id', 'in_reply_to_user_id', 'retweeted_status_id', 'retweeted_status_user_id', 'retweeted_status_timestamp']\n",
    "archive_clean = archive_clean.drop(col, axis=1)"
   ]
  },
  {
   "cell_type": "code",
   "execution_count": 795,
   "metadata": {},
   "outputs": [
    {
     "data": {
      "text/html": [
       "<div>\n",
       "<style scoped>\n",
       "    .dataframe tbody tr th:only-of-type {\n",
       "        vertical-align: middle;\n",
       "    }\n",
       "\n",
       "    .dataframe tbody tr th {\n",
       "        vertical-align: top;\n",
       "    }\n",
       "\n",
       "    .dataframe thead th {\n",
       "        text-align: right;\n",
       "    }\n",
       "</style>\n",
       "<table border=\"1\" class=\"dataframe\">\n",
       "  <thead>\n",
       "    <tr style=\"text-align: right;\">\n",
       "      <th></th>\n",
       "      <th>tweet_id</th>\n",
       "      <th>timestamp</th>\n",
       "      <th>source</th>\n",
       "      <th>text</th>\n",
       "      <th>expanded_urls</th>\n",
       "      <th>rating_numerator</th>\n",
       "      <th>rating_denominator</th>\n",
       "      <th>name</th>\n",
       "      <th>doggo</th>\n",
       "      <th>floofer</th>\n",
       "      <th>pupper</th>\n",
       "      <th>puppo</th>\n",
       "    </tr>\n",
       "  </thead>\n",
       "  <tbody>\n",
       "    <tr>\n",
       "      <th>0</th>\n",
       "      <td>892420643555336193</td>\n",
       "      <td>2017-08-01 16:23:56 +0000</td>\n",
       "      <td>&lt;a href=\"http://twitter.com/download/iphone\" r...</td>\n",
       "      <td>This is Phineas. He's a mystical boy. Only eve...</td>\n",
       "      <td>https://twitter.com/dog_rates/status/892420643...</td>\n",
       "      <td>13</td>\n",
       "      <td>10</td>\n",
       "      <td>Phineas</td>\n",
       "      <td>None</td>\n",
       "      <td>None</td>\n",
       "      <td>None</td>\n",
       "      <td>None</td>\n",
       "    </tr>\n",
       "    <tr>\n",
       "      <th>1</th>\n",
       "      <td>892177421306343426</td>\n",
       "      <td>2017-08-01 00:17:27 +0000</td>\n",
       "      <td>&lt;a href=\"http://twitter.com/download/iphone\" r...</td>\n",
       "      <td>This is Tilly. She's just checking pup on you....</td>\n",
       "      <td>https://twitter.com/dog_rates/status/892177421...</td>\n",
       "      <td>13</td>\n",
       "      <td>10</td>\n",
       "      <td>Tilly</td>\n",
       "      <td>None</td>\n",
       "      <td>None</td>\n",
       "      <td>None</td>\n",
       "      <td>None</td>\n",
       "    </tr>\n",
       "    <tr>\n",
       "      <th>2</th>\n",
       "      <td>891815181378084864</td>\n",
       "      <td>2017-07-31 00:18:03 +0000</td>\n",
       "      <td>&lt;a href=\"http://twitter.com/download/iphone\" r...</td>\n",
       "      <td>This is Archie. He is a rare Norwegian Pouncin...</td>\n",
       "      <td>https://twitter.com/dog_rates/status/891815181...</td>\n",
       "      <td>12</td>\n",
       "      <td>10</td>\n",
       "      <td>Archie</td>\n",
       "      <td>None</td>\n",
       "      <td>None</td>\n",
       "      <td>None</td>\n",
       "      <td>None</td>\n",
       "    </tr>\n",
       "    <tr>\n",
       "      <th>3</th>\n",
       "      <td>891689557279858688</td>\n",
       "      <td>2017-07-30 15:58:51 +0000</td>\n",
       "      <td>&lt;a href=\"http://twitter.com/download/iphone\" r...</td>\n",
       "      <td>This is Darla. She commenced a snooze mid meal...</td>\n",
       "      <td>https://twitter.com/dog_rates/status/891689557...</td>\n",
       "      <td>13</td>\n",
       "      <td>10</td>\n",
       "      <td>Darla</td>\n",
       "      <td>None</td>\n",
       "      <td>None</td>\n",
       "      <td>None</td>\n",
       "      <td>None</td>\n",
       "    </tr>\n",
       "    <tr>\n",
       "      <th>4</th>\n",
       "      <td>891327558926688256</td>\n",
       "      <td>2017-07-29 16:00:24 +0000</td>\n",
       "      <td>&lt;a href=\"http://twitter.com/download/iphone\" r...</td>\n",
       "      <td>This is Franklin. He would like you to stop ca...</td>\n",
       "      <td>https://twitter.com/dog_rates/status/891327558...</td>\n",
       "      <td>12</td>\n",
       "      <td>10</td>\n",
       "      <td>Franklin</td>\n",
       "      <td>None</td>\n",
       "      <td>None</td>\n",
       "      <td>None</td>\n",
       "      <td>None</td>\n",
       "    </tr>\n",
       "  </tbody>\n",
       "</table>\n",
       "</div>"
      ],
      "text/plain": [
       "             tweet_id                  timestamp  \\\n",
       "0  892420643555336193  2017-08-01 16:23:56 +0000   \n",
       "1  892177421306343426  2017-08-01 00:17:27 +0000   \n",
       "2  891815181378084864  2017-07-31 00:18:03 +0000   \n",
       "3  891689557279858688  2017-07-30 15:58:51 +0000   \n",
       "4  891327558926688256  2017-07-29 16:00:24 +0000   \n",
       "\n",
       "                                              source  \\\n",
       "0  <a href=\"http://twitter.com/download/iphone\" r...   \n",
       "1  <a href=\"http://twitter.com/download/iphone\" r...   \n",
       "2  <a href=\"http://twitter.com/download/iphone\" r...   \n",
       "3  <a href=\"http://twitter.com/download/iphone\" r...   \n",
       "4  <a href=\"http://twitter.com/download/iphone\" r...   \n",
       "\n",
       "                                                text  \\\n",
       "0  This is Phineas. He's a mystical boy. Only eve...   \n",
       "1  This is Tilly. She's just checking pup on you....   \n",
       "2  This is Archie. He is a rare Norwegian Pouncin...   \n",
       "3  This is Darla. She commenced a snooze mid meal...   \n",
       "4  This is Franklin. He would like you to stop ca...   \n",
       "\n",
       "                                       expanded_urls  rating_numerator  \\\n",
       "0  https://twitter.com/dog_rates/status/892420643...                13   \n",
       "1  https://twitter.com/dog_rates/status/892177421...                13   \n",
       "2  https://twitter.com/dog_rates/status/891815181...                12   \n",
       "3  https://twitter.com/dog_rates/status/891689557...                13   \n",
       "4  https://twitter.com/dog_rates/status/891327558...                12   \n",
       "\n",
       "   rating_denominator      name doggo floofer pupper puppo  \n",
       "0                  10   Phineas  None    None   None  None  \n",
       "1                  10     Tilly  None    None   None  None  \n",
       "2                  10    Archie  None    None   None  None  \n",
       "3                  10     Darla  None    None   None  None  \n",
       "4                  10  Franklin  None    None   None  None  "
      ]
     },
     "execution_count": 795,
     "metadata": {},
     "output_type": "execute_result"
    }
   ],
   "source": [
    "archive_clean.head()"
   ]
  },
  {
   "cell_type": "markdown",
   "metadata": {},
   "source": [
    "**Fix errorness datatype in `archive` table**"
   ]
  },
  {
   "cell_type": "code",
   "execution_count": 796,
   "metadata": {},
   "outputs": [],
   "source": [
    "archive_clean.timestamp = pd.to_datetime(archive_clean.timestamp)"
   ]
  },
  {
   "cell_type": "code",
   "execution_count": 797,
   "metadata": {},
   "outputs": [
    {
     "data": {
      "text/plain": [
       "tweet_id                            int64\n",
       "timestamp             datetime64[ns, UTC]\n",
       "source                             object\n",
       "text                               object\n",
       "expanded_urls                      object\n",
       "rating_numerator                    int64\n",
       "rating_denominator                  int64\n",
       "name                               object\n",
       "doggo                              object\n",
       "floofer                            object\n",
       "pupper                             object\n",
       "puppo                              object\n",
       "dtype: object"
      ]
     },
     "execution_count": 797,
     "metadata": {},
     "output_type": "execute_result"
    }
   ],
   "source": [
    "archive_clean.dtypes"
   ]
  },
  {
   "cell_type": "markdown",
   "metadata": {},
   "source": [
    "**Standardize ratings from numerators and denominators**"
   ]
  },
  {
   "cell_type": "code",
   "execution_count": 798,
   "metadata": {},
   "outputs": [
    {
     "data": {
      "text/html": [
       "<div>\n",
       "<style scoped>\n",
       "    .dataframe tbody tr th:only-of-type {\n",
       "        vertical-align: middle;\n",
       "    }\n",
       "\n",
       "    .dataframe tbody tr th {\n",
       "        vertical-align: top;\n",
       "    }\n",
       "\n",
       "    .dataframe thead th {\n",
       "        text-align: right;\n",
       "    }\n",
       "</style>\n",
       "<table border=\"1\" class=\"dataframe\">\n",
       "  <thead>\n",
       "    <tr style=\"text-align: right;\">\n",
       "      <th></th>\n",
       "      <th>rating_denominator</th>\n",
       "      <th>rating_numerator</th>\n",
       "    </tr>\n",
       "  </thead>\n",
       "  <tbody>\n",
       "    <tr>\n",
       "      <th>count</th>\n",
       "      <td>2356.000000</td>\n",
       "      <td>2356.000000</td>\n",
       "    </tr>\n",
       "    <tr>\n",
       "      <th>mean</th>\n",
       "      <td>10.455433</td>\n",
       "      <td>13.126486</td>\n",
       "    </tr>\n",
       "    <tr>\n",
       "      <th>std</th>\n",
       "      <td>6.745237</td>\n",
       "      <td>45.876648</td>\n",
       "    </tr>\n",
       "    <tr>\n",
       "      <th>min</th>\n",
       "      <td>0.000000</td>\n",
       "      <td>0.000000</td>\n",
       "    </tr>\n",
       "    <tr>\n",
       "      <th>25%</th>\n",
       "      <td>10.000000</td>\n",
       "      <td>10.000000</td>\n",
       "    </tr>\n",
       "    <tr>\n",
       "      <th>50%</th>\n",
       "      <td>10.000000</td>\n",
       "      <td>11.000000</td>\n",
       "    </tr>\n",
       "    <tr>\n",
       "      <th>75%</th>\n",
       "      <td>10.000000</td>\n",
       "      <td>12.000000</td>\n",
       "    </tr>\n",
       "    <tr>\n",
       "      <th>max</th>\n",
       "      <td>170.000000</td>\n",
       "      <td>1776.000000</td>\n",
       "    </tr>\n",
       "  </tbody>\n",
       "</table>\n",
       "</div>"
      ],
      "text/plain": [
       "       rating_denominator  rating_numerator\n",
       "count         2356.000000       2356.000000\n",
       "mean            10.455433         13.126486\n",
       "std              6.745237         45.876648\n",
       "min              0.000000          0.000000\n",
       "25%             10.000000         10.000000\n",
       "50%             10.000000         11.000000\n",
       "75%             10.000000         12.000000\n",
       "max            170.000000       1776.000000"
      ]
     },
     "execution_count": 798,
     "metadata": {},
     "output_type": "execute_result"
    }
   ],
   "source": [
    "# Recall the statistics of ratings\n",
    "archive_clean[['rating_denominator','rating_numerator']].describe()"
   ]
  },
  {
   "cell_type": "code",
   "execution_count": 799,
   "metadata": {
    "scrolled": true
   },
   "outputs": [
    {
     "name": "stdout",
     "output_type": "stream",
     "text": [
      "['This is Bella. She hopes her smile made you smile. If not, she is also offering you her favorite monkey. 13.5/10 https://t.co/qjrljjt948', \"RT @dog_rates: This is Logan, the Chow who lived. He solemnly swears he's up to lots of good. H*ckin magical af 9.75/10 https://t.co/yBO5wu…\", \"This is Logan, the Chow who lived. He solemnly swears he's up to lots of good. H*ckin magical af 9.75/10 https://t.co/yBO5wuqaPS\", \"This is Sophie. She's a Jubilant Bush Pupper. Super h*ckin rare. Appears at random just to smile at the locals. 11.27/10 would smile back https://t.co/QFaUiIHxHq\", \"I've been told there's a slight possibility he's checking his mirror. We'll bump to 9.5/10. Still a menace\", 'Here we have uncovered an entire battalion of holiday puppers. Average of 11.26/10 https://t.co/eNm2S6p9BD']\n"
     ]
    }
   ],
   "source": [
    "# Find decimal values\n",
    "twitter_txt = []\n",
    "inds = []\n",
    "rating = []\n",
    "for i, text in archive_clean['text'].iteritems():\n",
    "    if bool(re.search('\\d+\\.\\d+\\/\\d+', text)):\n",
    "        twitter_txt.append(text)\n",
    "        inds.append(i)\n",
    "        rating.append(re.findall('\\d+\\.\\d+\\/\\d+', text)[0])\n",
    "# Print ratings with decimals        \n",
    "print(twitter_txt)"
   ]
  },
  {
   "cell_type": "code",
   "execution_count": 800,
   "metadata": {},
   "outputs": [],
   "source": [
    "# Replace the misplaced value with extracted value\n",
    "for i, ind in enumerate(inds):\n",
    "    archive_clean.iloc[ind, 5] = round(float(rating[i].split('/')[0]), 1)"
   ]
  },
  {
   "cell_type": "code",
   "execution_count": 801,
   "metadata": {},
   "outputs": [],
   "source": [
    "# Remove denominators are not 10 since 10 is the standard value\n",
    "archive_clean = archive_clean[archive_clean.rating_denominator == 10]"
   ]
  },
  {
   "cell_type": "code",
   "execution_count": 802,
   "metadata": {},
   "outputs": [],
   "source": [
    "# Create ratings column\n",
    "archive_clean['ratings'] = archive_clean.rating_numerator/10"
   ]
  },
  {
   "cell_type": "code",
   "execution_count": 803,
   "metadata": {},
   "outputs": [
    {
     "data": {
      "text/plain": [
       "12.0      558\n",
       "11.0      463\n",
       "10.0      461\n",
       "13.0      351\n",
       "9.0       156\n",
       "8.0       102\n",
       "14.0       54\n",
       "7.0        54\n",
       "5.0        35\n",
       "6.0        32\n",
       "3.0        19\n",
       "4.0        15\n",
       "2.0         9\n",
       "1.0         8\n",
       "15.0        2\n",
       "9.8         2\n",
       "0.0         2\n",
       "420.0       2\n",
       "11.3        2\n",
       "9.5         1\n",
       "666.0       1\n",
       "17.0        1\n",
       "13.5        1\n",
       "182.0       1\n",
       "1776.0      1\n",
       "Name: rating_numerator, dtype: int64"
      ]
     },
     "execution_count": 803,
     "metadata": {},
     "output_type": "execute_result"
    }
   ],
   "source": [
    "archive_clean.rating_numerator.value_counts()"
   ]
  },
  {
   "cell_type": "code",
   "execution_count": 804,
   "metadata": {},
   "outputs": [],
   "source": [
    "# Remove invalid values, numerator greater than 100\n",
    "archive_clean = archive_clean[archive_clean.rating_numerator <= 100]"
   ]
  },
  {
   "cell_type": "code",
   "execution_count": 805,
   "metadata": {},
   "outputs": [
    {
     "data": {
      "text/html": [
       "<div>\n",
       "<style scoped>\n",
       "    .dataframe tbody tr th:only-of-type {\n",
       "        vertical-align: middle;\n",
       "    }\n",
       "\n",
       "    .dataframe tbody tr th {\n",
       "        vertical-align: top;\n",
       "    }\n",
       "\n",
       "    .dataframe thead th {\n",
       "        text-align: right;\n",
       "    }\n",
       "</style>\n",
       "<table border=\"1\" class=\"dataframe\">\n",
       "  <thead>\n",
       "    <tr style=\"text-align: right;\">\n",
       "      <th></th>\n",
       "      <th>tweet_id</th>\n",
       "      <th>rating_numerator</th>\n",
       "      <th>rating_denominator</th>\n",
       "      <th>ratings</th>\n",
       "    </tr>\n",
       "  </thead>\n",
       "  <tbody>\n",
       "    <tr>\n",
       "      <th>count</th>\n",
       "      <td>2.328000e+03</td>\n",
       "      <td>2328.000000</td>\n",
       "      <td>2328.0</td>\n",
       "      <td>2328.000000</td>\n",
       "    </tr>\n",
       "    <tr>\n",
       "      <th>mean</th>\n",
       "      <td>7.428180e+17</td>\n",
       "      <td>10.712285</td>\n",
       "      <td>10.0</td>\n",
       "      <td>1.071229</td>\n",
       "    </tr>\n",
       "    <tr>\n",
       "      <th>std</th>\n",
       "      <td>6.864100e+16</td>\n",
       "      <td>2.172597</td>\n",
       "      <td>0.0</td>\n",
       "      <td>0.217260</td>\n",
       "    </tr>\n",
       "    <tr>\n",
       "      <th>min</th>\n",
       "      <td>6.660209e+17</td>\n",
       "      <td>0.000000</td>\n",
       "      <td>10.0</td>\n",
       "      <td>0.000000</td>\n",
       "    </tr>\n",
       "    <tr>\n",
       "      <th>25%</th>\n",
       "      <td>6.783704e+17</td>\n",
       "      <td>10.000000</td>\n",
       "      <td>10.0</td>\n",
       "      <td>1.000000</td>\n",
       "    </tr>\n",
       "    <tr>\n",
       "      <th>50%</th>\n",
       "      <td>7.198478e+17</td>\n",
       "      <td>11.000000</td>\n",
       "      <td>10.0</td>\n",
       "      <td>1.100000</td>\n",
       "    </tr>\n",
       "    <tr>\n",
       "      <th>75%</th>\n",
       "      <td>7.993373e+17</td>\n",
       "      <td>12.000000</td>\n",
       "      <td>10.0</td>\n",
       "      <td>1.200000</td>\n",
       "    </tr>\n",
       "    <tr>\n",
       "      <th>max</th>\n",
       "      <td>8.924206e+17</td>\n",
       "      <td>17.000000</td>\n",
       "      <td>10.0</td>\n",
       "      <td>1.700000</td>\n",
       "    </tr>\n",
       "  </tbody>\n",
       "</table>\n",
       "</div>"
      ],
      "text/plain": [
       "           tweet_id  rating_numerator  rating_denominator      ratings\n",
       "count  2.328000e+03       2328.000000              2328.0  2328.000000\n",
       "mean   7.428180e+17         10.712285                10.0     1.071229\n",
       "std    6.864100e+16          2.172597                 0.0     0.217260\n",
       "min    6.660209e+17          0.000000                10.0     0.000000\n",
       "25%    6.783704e+17         10.000000                10.0     1.000000\n",
       "50%    7.198478e+17         11.000000                10.0     1.100000\n",
       "75%    7.993373e+17         12.000000                10.0     1.200000\n",
       "max    8.924206e+17         17.000000                10.0     1.700000"
      ]
     },
     "execution_count": 805,
     "metadata": {},
     "output_type": "execute_result"
    }
   ],
   "source": [
    "archive_clean.describe()"
   ]
  },
  {
   "cell_type": "code",
   "execution_count": 806,
   "metadata": {},
   "outputs": [],
   "source": [
    "# Use rating as standardize rating system\n",
    "archive_clean = archive_clean.drop(['rating_numerator', 'rating_denominator'], axis = 1)"
   ]
  },
  {
   "cell_type": "markdown",
   "metadata": {},
   "source": [
    "**Change invalid dog names and use uniformed cases** "
   ]
  },
  {
   "cell_type": "code",
   "execution_count": 807,
   "metadata": {},
   "outputs": [],
   "source": [
    "# Replace all letters and numbers name\n",
    "archive_clean.name = archive_clean.name.str.replace('^[a-z]+', 'None').str.title()"
   ]
  },
  {
   "cell_type": "code",
   "execution_count": 808,
   "metadata": {},
   "outputs": [
    {
     "data": {
      "text/plain": [
       "None       830\n",
       "Charlie     12\n",
       "Cooper      11\n",
       "Lucy        11\n",
       "Oliver      11\n",
       "          ... \n",
       "Leonard      1\n",
       "Ron          1\n",
       "Tyrus        1\n",
       "Bilbo        1\n",
       "Odin         1\n",
       "Name: name, Length: 930, dtype: int64"
      ]
     },
     "execution_count": 808,
     "metadata": {},
     "output_type": "execute_result"
    }
   ],
   "source": [
    "archive_clean.name.value_counts()"
   ]
  },
  {
   "cell_type": "code",
   "execution_count": 809,
   "metadata": {},
   "outputs": [
    {
     "data": {
      "text/plain": [
       "(2328, 11)"
      ]
     },
     "execution_count": 809,
     "metadata": {},
     "output_type": "execute_result"
    }
   ],
   "source": [
    "archive_clean.shape"
   ]
  },
  {
   "cell_type": "markdown",
   "metadata": {},
   "source": [
    "**Change dog name to uniformed style in prediction table**"
   ]
  },
  {
   "cell_type": "code",
   "execution_count": 810,
   "metadata": {},
   "outputs": [],
   "source": [
    "cols = ['p1', 'p2', 'p3']\n",
    "for col in cols:\n",
    "    pred_clean[col] = pred_clean[col].apply(lambda x: x.replace('_', ' ').title())"
   ]
  },
  {
   "cell_type": "code",
   "execution_count": 811,
   "metadata": {},
   "outputs": [
    {
     "data": {
      "text/html": [
       "<div>\n",
       "<style scoped>\n",
       "    .dataframe tbody tr th:only-of-type {\n",
       "        vertical-align: middle;\n",
       "    }\n",
       "\n",
       "    .dataframe tbody tr th {\n",
       "        vertical-align: top;\n",
       "    }\n",
       "\n",
       "    .dataframe thead th {\n",
       "        text-align: right;\n",
       "    }\n",
       "</style>\n",
       "<table border=\"1\" class=\"dataframe\">\n",
       "  <thead>\n",
       "    <tr style=\"text-align: right;\">\n",
       "      <th></th>\n",
       "      <th>p1</th>\n",
       "      <th>p2</th>\n",
       "      <th>p3</th>\n",
       "    </tr>\n",
       "  </thead>\n",
       "  <tbody>\n",
       "    <tr>\n",
       "      <th>0</th>\n",
       "      <td>Welsh Springer Spaniel</td>\n",
       "      <td>Collie</td>\n",
       "      <td>Shetland Sheepdog</td>\n",
       "    </tr>\n",
       "    <tr>\n",
       "      <th>1</th>\n",
       "      <td>Redbone</td>\n",
       "      <td>Miniature Pinscher</td>\n",
       "      <td>Rhodesian Ridgeback</td>\n",
       "    </tr>\n",
       "    <tr>\n",
       "      <th>2</th>\n",
       "      <td>German Shepherd</td>\n",
       "      <td>Malinois</td>\n",
       "      <td>Bloodhound</td>\n",
       "    </tr>\n",
       "    <tr>\n",
       "      <th>3</th>\n",
       "      <td>Rhodesian Ridgeback</td>\n",
       "      <td>Redbone</td>\n",
       "      <td>Miniature Pinscher</td>\n",
       "    </tr>\n",
       "    <tr>\n",
       "      <th>4</th>\n",
       "      <td>Miniature Pinscher</td>\n",
       "      <td>Rottweiler</td>\n",
       "      <td>Doberman</td>\n",
       "    </tr>\n",
       "  </tbody>\n",
       "</table>\n",
       "</div>"
      ],
      "text/plain": [
       "                       p1                  p2                   p3\n",
       "0  Welsh Springer Spaniel              Collie    Shetland Sheepdog\n",
       "1                 Redbone  Miniature Pinscher  Rhodesian Ridgeback\n",
       "2         German Shepherd            Malinois           Bloodhound\n",
       "3     Rhodesian Ridgeback             Redbone   Miniature Pinscher\n",
       "4      Miniature Pinscher          Rottweiler             Doberman"
      ]
     },
     "execution_count": 811,
     "metadata": {},
     "output_type": "execute_result"
    }
   ],
   "source": [
    "pred_clean[cols].head()"
   ]
  },
  {
   "cell_type": "markdown",
   "metadata": {},
   "source": [
    "**Remove duplicated entries in status table**"
   ]
  },
  {
   "cell_type": "code",
   "execution_count": 812,
   "metadata": {},
   "outputs": [],
   "source": [
    "status_clean = status_clean.drop(['retweeted', 'time'], axis = 1)"
   ]
  },
  {
   "cell_type": "code",
   "execution_count": 814,
   "metadata": {},
   "outputs": [],
   "source": [
    "status_clean = status_clean.drop_duplicates()"
   ]
  },
  {
   "cell_type": "code",
   "execution_count": 838,
   "metadata": {},
   "outputs": [],
   "source": [
    "status_clean = status_clean[status_clean.id.duplicated() == False]"
   ]
  },
  {
   "cell_type": "code",
   "execution_count": 839,
   "metadata": {},
   "outputs": [
    {
     "data": {
      "text/plain": [
       "False"
      ]
     },
     "execution_count": 839,
     "metadata": {},
     "output_type": "execute_result"
    }
   ],
   "source": [
    "status_clean.duplicated().any()"
   ]
  },
  {
   "cell_type": "markdown",
   "metadata": {},
   "source": [
    "**Melt dog stages into one column**"
   ]
  },
  {
   "cell_type": "code",
   "execution_count": 818,
   "metadata": {},
   "outputs": [],
   "source": [
    "# Methods to extract dog stage\n",
    "def match_stage(x):\n",
    "    styles = np.array(x.split(','))\n",
    "    u_sty = np.unique(styles)\n",
    "    if len(u_sty) > 1:\n",
    "        return u_sty[1]\n",
    "    else:\n",
    "        return u_sty[0]"
   ]
  },
  {
   "cell_type": "code",
   "execution_count": 819,
   "metadata": {},
   "outputs": [],
   "source": [
    "# Concatenate dog stage columns\n",
    "temp = archive_clean.copy()\n",
    "temp['dog_stage'] = temp[['doggo', 'floofer', 'pupper', 'puppo']].apply(lambda x: ','.join(x), axis=1)\n",
    "temp = temp.drop(['doggo', 'floofer', 'pupper', 'puppo'], axis = 1)\n",
    "# Extract dog_stage \n",
    "temp['dog_stage'] = temp['dog_stage'].apply(lambda x: match_stage(x))"
   ]
  },
  {
   "cell_type": "code",
   "execution_count": 820,
   "metadata": {},
   "outputs": [],
   "source": [
    "archive_clean = temp"
   ]
  },
  {
   "cell_type": "code",
   "execution_count": 821,
   "metadata": {},
   "outputs": [
    {
     "data": {
      "text/plain": [
       "None       1948\n",
       "pupper      245\n",
       "doggo        97\n",
       "puppo        29\n",
       "floofer       9\n",
       "Name: dog_stage, dtype: int64"
      ]
     },
     "execution_count": 821,
     "metadata": {},
     "output_type": "execute_result"
    }
   ],
   "source": [
    "archive_clean.dog_stage.value_counts()"
   ]
  },
  {
   "cell_type": "markdown",
   "metadata": {},
   "source": [
    "**Remove duplicated columns and merge tables**"
   ]
  },
  {
   "cell_type": "code",
   "execution_count": 822,
   "metadata": {},
   "outputs": [],
   "source": [
    "# Since second prediction for dog image usually has much lower coef, only keep p1 for analysis\n",
    "pred_clean = pred_clean.iloc[:,0:5]"
   ]
  },
  {
   "cell_type": "code",
   "execution_count": 823,
   "metadata": {},
   "outputs": [],
   "source": [
    "# Merge image predication and archive table by twitter id\n",
    "df_merge1 = archive_clean.merge(pred_clean, on = 'tweet_id', how = 'inner')"
   ]
  },
  {
   "cell_type": "code",
   "execution_count": 840,
   "metadata": {},
   "outputs": [],
   "source": [
    "# Merge above table with status table\n",
    "df_merge = df_merge1.merge(status_clean, left_on = 'tweet_id', right_on = 'id', how = 'inner')"
   ]
  },
  {
   "cell_type": "code",
   "execution_count": 841,
   "metadata": {},
   "outputs": [
    {
     "data": {
      "text/html": [
       "<div>\n",
       "<style scoped>\n",
       "    .dataframe tbody tr th:only-of-type {\n",
       "        vertical-align: middle;\n",
       "    }\n",
       "\n",
       "    .dataframe tbody tr th {\n",
       "        vertical-align: top;\n",
       "    }\n",
       "\n",
       "    .dataframe thead th {\n",
       "        text-align: right;\n",
       "    }\n",
       "</style>\n",
       "<table border=\"1\" class=\"dataframe\">\n",
       "  <thead>\n",
       "    <tr style=\"text-align: right;\">\n",
       "      <th></th>\n",
       "      <th>tweet_id</th>\n",
       "      <th>timestamp</th>\n",
       "      <th>source</th>\n",
       "      <th>text</th>\n",
       "      <th>expanded_urls</th>\n",
       "      <th>name</th>\n",
       "      <th>ratings</th>\n",
       "      <th>dog_stage</th>\n",
       "      <th>jpg_url</th>\n",
       "      <th>img_num</th>\n",
       "      <th>p1</th>\n",
       "      <th>p1_conf</th>\n",
       "      <th>id</th>\n",
       "      <th>retweets</th>\n",
       "      <th>likes</th>\n",
       "    </tr>\n",
       "  </thead>\n",
       "  <tbody>\n",
       "    <tr>\n",
       "      <th>0</th>\n",
       "      <td>892420643555336193</td>\n",
       "      <td>2017-08-01 16:23:56+00:00</td>\n",
       "      <td>&lt;a href=\"http://twitter.com/download/iphone\" r...</td>\n",
       "      <td>This is Phineas. He's a mystical boy. Only eve...</td>\n",
       "      <td>https://twitter.com/dog_rates/status/892420643...</td>\n",
       "      <td>Phineas</td>\n",
       "      <td>1.3</td>\n",
       "      <td>None</td>\n",
       "      <td>https://pbs.twimg.com/media/DGKD1-bXoAAIAUK.jpg</td>\n",
       "      <td>1</td>\n",
       "      <td>Orange</td>\n",
       "      <td>0.097049</td>\n",
       "      <td>892420643555336193</td>\n",
       "      <td>7745</td>\n",
       "      <td>36427</td>\n",
       "    </tr>\n",
       "    <tr>\n",
       "      <th>1</th>\n",
       "      <td>892177421306343426</td>\n",
       "      <td>2017-08-01 00:17:27+00:00</td>\n",
       "      <td>&lt;a href=\"http://twitter.com/download/iphone\" r...</td>\n",
       "      <td>This is Tilly. She's just checking pup on you....</td>\n",
       "      <td>https://twitter.com/dog_rates/status/892177421...</td>\n",
       "      <td>Tilly</td>\n",
       "      <td>1.3</td>\n",
       "      <td>None</td>\n",
       "      <td>https://pbs.twimg.com/media/DGGmoV4XsAAUL6n.jpg</td>\n",
       "      <td>1</td>\n",
       "      <td>Chihuahua</td>\n",
       "      <td>0.323581</td>\n",
       "      <td>892177421306343426</td>\n",
       "      <td>5737</td>\n",
       "      <td>31368</td>\n",
       "    </tr>\n",
       "    <tr>\n",
       "      <th>2</th>\n",
       "      <td>891815181378084864</td>\n",
       "      <td>2017-07-31 00:18:03+00:00</td>\n",
       "      <td>&lt;a href=\"http://twitter.com/download/iphone\" r...</td>\n",
       "      <td>This is Archie. He is a rare Norwegian Pouncin...</td>\n",
       "      <td>https://twitter.com/dog_rates/status/891815181...</td>\n",
       "      <td>Archie</td>\n",
       "      <td>1.2</td>\n",
       "      <td>None</td>\n",
       "      <td>https://pbs.twimg.com/media/DGBdLU1WsAANxJ9.jpg</td>\n",
       "      <td>1</td>\n",
       "      <td>Chihuahua</td>\n",
       "      <td>0.716012</td>\n",
       "      <td>891815181378084864</td>\n",
       "      <td>3798</td>\n",
       "      <td>23640</td>\n",
       "    </tr>\n",
       "    <tr>\n",
       "      <th>3</th>\n",
       "      <td>891689557279858688</td>\n",
       "      <td>2017-07-30 15:58:51+00:00</td>\n",
       "      <td>&lt;a href=\"http://twitter.com/download/iphone\" r...</td>\n",
       "      <td>This is Darla. She commenced a snooze mid meal...</td>\n",
       "      <td>https://twitter.com/dog_rates/status/891689557...</td>\n",
       "      <td>Darla</td>\n",
       "      <td>1.3</td>\n",
       "      <td>None</td>\n",
       "      <td>https://pbs.twimg.com/media/DF_q7IAWsAEuuN8.jpg</td>\n",
       "      <td>1</td>\n",
       "      <td>Paper Towel</td>\n",
       "      <td>0.170278</td>\n",
       "      <td>891689557279858688</td>\n",
       "      <td>7902</td>\n",
       "      <td>39740</td>\n",
       "    </tr>\n",
       "    <tr>\n",
       "      <th>4</th>\n",
       "      <td>891327558926688256</td>\n",
       "      <td>2017-07-29 16:00:24+00:00</td>\n",
       "      <td>&lt;a href=\"http://twitter.com/download/iphone\" r...</td>\n",
       "      <td>This is Franklin. He would like you to stop ca...</td>\n",
       "      <td>https://twitter.com/dog_rates/status/891327558...</td>\n",
       "      <td>Franklin</td>\n",
       "      <td>1.2</td>\n",
       "      <td>None</td>\n",
       "      <td>https://pbs.twimg.com/media/DF6hr6BUMAAzZgT.jpg</td>\n",
       "      <td>2</td>\n",
       "      <td>Basset</td>\n",
       "      <td>0.555712</td>\n",
       "      <td>891327558926688256</td>\n",
       "      <td>8539</td>\n",
       "      <td>37932</td>\n",
       "    </tr>\n",
       "  </tbody>\n",
       "</table>\n",
       "</div>"
      ],
      "text/plain": [
       "             tweet_id                 timestamp  \\\n",
       "0  892420643555336193 2017-08-01 16:23:56+00:00   \n",
       "1  892177421306343426 2017-08-01 00:17:27+00:00   \n",
       "2  891815181378084864 2017-07-31 00:18:03+00:00   \n",
       "3  891689557279858688 2017-07-30 15:58:51+00:00   \n",
       "4  891327558926688256 2017-07-29 16:00:24+00:00   \n",
       "\n",
       "                                              source  \\\n",
       "0  <a href=\"http://twitter.com/download/iphone\" r...   \n",
       "1  <a href=\"http://twitter.com/download/iphone\" r...   \n",
       "2  <a href=\"http://twitter.com/download/iphone\" r...   \n",
       "3  <a href=\"http://twitter.com/download/iphone\" r...   \n",
       "4  <a href=\"http://twitter.com/download/iphone\" r...   \n",
       "\n",
       "                                                text  \\\n",
       "0  This is Phineas. He's a mystical boy. Only eve...   \n",
       "1  This is Tilly. She's just checking pup on you....   \n",
       "2  This is Archie. He is a rare Norwegian Pouncin...   \n",
       "3  This is Darla. She commenced a snooze mid meal...   \n",
       "4  This is Franklin. He would like you to stop ca...   \n",
       "\n",
       "                                       expanded_urls      name  ratings  \\\n",
       "0  https://twitter.com/dog_rates/status/892420643...   Phineas      1.3   \n",
       "1  https://twitter.com/dog_rates/status/892177421...     Tilly      1.3   \n",
       "2  https://twitter.com/dog_rates/status/891815181...    Archie      1.2   \n",
       "3  https://twitter.com/dog_rates/status/891689557...     Darla      1.3   \n",
       "4  https://twitter.com/dog_rates/status/891327558...  Franklin      1.2   \n",
       "\n",
       "  dog_stage                                          jpg_url  img_num  \\\n",
       "0      None  https://pbs.twimg.com/media/DGKD1-bXoAAIAUK.jpg        1   \n",
       "1      None  https://pbs.twimg.com/media/DGGmoV4XsAAUL6n.jpg        1   \n",
       "2      None  https://pbs.twimg.com/media/DGBdLU1WsAANxJ9.jpg        1   \n",
       "3      None  https://pbs.twimg.com/media/DF_q7IAWsAEuuN8.jpg        1   \n",
       "4      None  https://pbs.twimg.com/media/DF6hr6BUMAAzZgT.jpg        2   \n",
       "\n",
       "            p1   p1_conf                  id  retweets  likes  \n",
       "0       Orange  0.097049  892420643555336193      7745  36427  \n",
       "1    Chihuahua  0.323581  892177421306343426      5737  31368  \n",
       "2    Chihuahua  0.716012  891815181378084864      3798  23640  \n",
       "3  Paper Towel  0.170278  891689557279858688      7902  39740  \n",
       "4       Basset  0.555712  891327558926688256      8539  37932  "
      ]
     },
     "execution_count": 841,
     "metadata": {},
     "output_type": "execute_result"
    }
   ],
   "source": [
    "df_merge.head()"
   ]
  },
  {
   "cell_type": "code",
   "execution_count": 842,
   "metadata": {},
   "outputs": [
    {
     "name": "stdout",
     "output_type": "stream",
     "text": [
      "<class 'pandas.core.frame.DataFrame'>\n",
      "Int64Index: 2039 entries, 0 to 2038\n",
      "Data columns (total 15 columns):\n",
      " #   Column         Non-Null Count  Dtype              \n",
      "---  ------         --------------  -----              \n",
      " 0   tweet_id       2039 non-null   int64              \n",
      " 1   timestamp      2039 non-null   datetime64[ns, UTC]\n",
      " 2   source         2039 non-null   object             \n",
      " 3   text           2039 non-null   object             \n",
      " 4   expanded_urls  2039 non-null   object             \n",
      " 5   name           2039 non-null   object             \n",
      " 6   ratings        2039 non-null   float64            \n",
      " 7   dog_stage      2039 non-null   object             \n",
      " 8   jpg_url        2039 non-null   object             \n",
      " 9   img_num        2039 non-null   int64              \n",
      " 10  p1             2039 non-null   object             \n",
      " 11  p1_conf        2039 non-null   float64            \n",
      " 12  id             2039 non-null   int64              \n",
      " 13  retweets       2039 non-null   int64              \n",
      " 14  likes          2039 non-null   int64              \n",
      "dtypes: datetime64[ns, UTC](1), float64(2), int64(5), object(7)\n",
      "memory usage: 254.9+ KB\n"
     ]
    }
   ],
   "source": [
    "df_merge.info()"
   ]
  },
  {
   "cell_type": "code",
   "execution_count": 843,
   "metadata": {},
   "outputs": [],
   "source": [
    "# Save clened dataframe\n",
    "df_merge.to_csv('twitter_archive_master.csv', encoding = 'utf-8')"
   ]
  }
 ],
 "metadata": {
  "kernelspec": {
   "display_name": "Python 3",
   "language": "python",
   "name": "python3"
  },
  "language_info": {
   "codemirror_mode": {
    "name": "ipython",
    "version": 3
   },
   "file_extension": ".py",
   "mimetype": "text/x-python",
   "name": "python",
   "nbconvert_exporter": "python",
   "pygments_lexer": "ipython3",
   "version": "3.7.6"
  }
 },
 "nbformat": 4,
 "nbformat_minor": 4
}
